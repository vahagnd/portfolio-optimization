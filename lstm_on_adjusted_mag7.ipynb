{
 "cells": [
  {
   "cell_type": "markdown",
   "metadata": {
    "id": "-61dt_dqRlsP"
   },
   "source": [
    "# Importing Libraries and Data"
   ]
  },
  {
   "cell_type": "code",
   "execution_count": 1,
   "metadata": {},
   "outputs": [],
   "source": [
    "from data import ohlcv_adjusted_mag7_data"
   ]
  },
  {
   "cell_type": "code",
   "execution_count": 39,
   "metadata": {
    "_cell_guid": "3c10ea55-58b0-4a52-b037-f8ff2e7c6463",
    "_uuid": "9065264c-521f-4391-bad9-f91f83c0d138",
    "collapsed": false,
    "execution": {
     "iopub.execute_input": "2025-04-18T02:42:00.457815Z",
     "iopub.status.busy": "2025-04-18T02:42:00.457073Z",
     "iopub.status.idle": "2025-04-18T02:42:03.436134Z",
     "shell.execute_reply": "2025-04-18T02:42:03.435333Z",
     "shell.execute_reply.started": "2025-04-18T02:42:00.457789Z"
    },
    "executionInfo": {
     "elapsed": 11,
     "status": "ok",
     "timestamp": 1749828291524,
     "user": {
      "displayName": "Vahagn Dovlatyan Univ",
      "userId": "11218036502332640401"
     },
     "user_tz": -240
    },
    "id": "rzuiw21qCLmj",
    "jupyter": {
     "outputs_hidden": false
    }
   },
   "outputs": [],
   "source": [
    "import pandas as pd\n",
    "import numpy as np\n",
    "import matplotlib.pyplot as plt\n",
    "import sys\n",
    "import os\n",
    "from sklearn.preprocessing import MinMaxScaler\n",
    "from sklearn.preprocessing import StandardScaler\n",
    "import json\n",
    "from datetime import datetime\n",
    "import random"
   ]
  },
  {
   "cell_type": "code",
   "execution_count": 2,
   "metadata": {
    "_cell_guid": "c0df7160-e7ec-407e-9cea-164f7e0433cc",
    "_uuid": "794f43c3-f762-4943-8d45-efe9f299d060",
    "collapsed": false,
    "execution": {
     "iopub.execute_input": "2025-04-18T02:42:07.059646Z",
     "iopub.status.busy": "2025-04-18T02:42:07.059112Z",
     "iopub.status.idle": "2025-04-18T02:42:07.063075Z",
     "shell.execute_reply": "2025-04-18T02:42:07.062310Z",
     "shell.execute_reply.started": "2025-04-18T02:42:07.059624Z"
    },
    "executionInfo": {
     "elapsed": 4,
     "status": "ok",
     "timestamp": 1749826484551,
     "user": {
      "displayName": "Vahagn Dovlatyan Univ",
      "userId": "11218036502332640401"
     },
     "user_tz": -240
    },
    "id": "y7GDRca2Weg1",
    "jupyter": {
     "outputs_hidden": false
    }
   },
   "outputs": [],
   "source": [
    "# Run before importing torch. This is for cuda memory allocation error. Doesn't fix it tho.\n",
    "os.environ[\"PYTORCH_CUDA_ALLOC_CONF\"] = \"expandable_segments:True\""
   ]
  },
  {
   "cell_type": "code",
   "execution_count": 46,
   "metadata": {
    "_cell_guid": "6c43ae44-a915-43b0-ad64-1581932333e6",
    "_uuid": "1abb8f5e-b48c-42d0-9dae-a19bb0ca8129",
    "collapsed": false,
    "execution": {
     "iopub.execute_input": "2025-04-18T02:42:09.159568Z",
     "iopub.status.busy": "2025-04-18T02:42:09.158900Z",
     "iopub.status.idle": "2025-04-18T02:42:16.625279Z",
     "shell.execute_reply": "2025-04-18T02:42:16.624551Z",
     "shell.execute_reply.started": "2025-04-18T02:42:09.159542Z"
    },
    "executionInfo": {
     "elapsed": 1435,
     "status": "ok",
     "timestamp": 1749828847332,
     "user": {
      "displayName": "Vahagn Dovlatyan Univ",
      "userId": "11218036502332640401"
     },
     "user_tz": -240
    },
    "id": "pSh1qcEkCwmE",
    "jupyter": {
     "outputs_hidden": false
    }
   },
   "outputs": [],
   "source": [
    "import torch\n",
    "import torch.nn as nn\n",
    "import torch.nn.functional as F\n",
    "from torch.utils.data import Dataset, DataLoader\n",
    "from mpt import markowitz_optimization_pytorch"
   ]
  },
  {
   "cell_type": "code",
   "execution_count": 4,
   "metadata": {
    "_cell_guid": "c4251c6d-5953-4346-94bf-3571633e3ca8",
    "_uuid": "fb8a0562-54b0-4c73-9491-dd8a37ce1389",
    "colab": {
     "base_uri": "https://localhost:8080/"
    },
    "collapsed": false,
    "execution": {
     "iopub.execute_input": "2025-04-18T02:42:19.458911Z",
     "iopub.status.busy": "2025-04-18T02:42:19.458113Z",
     "iopub.status.idle": "2025-04-18T02:42:19.550397Z",
     "shell.execute_reply": "2025-04-18T02:42:19.549672Z",
     "shell.execute_reply.started": "2025-04-18T02:42:19.458884Z"
    },
    "executionInfo": {
     "elapsed": 47,
     "status": "ok",
     "timestamp": 1749826490325,
     "user": {
      "displayName": "Vahagn Dovlatyan Univ",
      "userId": "11218036502332640401"
     },
     "user_tz": -240
    },
    "id": "X2qxGcCxOMAd",
    "jupyter": {
     "outputs_hidden": false
    },
    "outputId": "380d70e0-a489-491f-f14a-e324d2f61b96"
   },
   "outputs": [
    {
     "data": {
      "text/plain": [
       "device(type='cuda')"
      ]
     },
     "execution_count": 4,
     "metadata": {},
     "output_type": "execute_result"
    }
   ],
   "source": [
    "device = torch.device(\"cuda\" if torch.cuda.is_available() else \"cpu\")\n",
    "device"
   ]
  },
  {
   "cell_type": "code",
   "execution_count": 5,
   "metadata": {
    "_cell_guid": "ed72ec80-03c8-4185-a355-0962d913ebc6",
    "_uuid": "63205616-9520-446a-bc1f-c591d38af3e4",
    "colab": {
     "base_uri": "https://localhost:8080/"
    },
    "collapsed": false,
    "executionInfo": {
     "elapsed": 1219,
     "status": "ok",
     "timestamp": 1749826491546,
     "user": {
      "displayName": "Vahagn Dovlatyan Univ",
      "userId": "11218036502332640401"
     },
     "user_tz": -240
    },
    "id": "hjiFNjOnCxD-",
    "jupyter": {
     "outputs_hidden": false
    },
    "outputId": "630d3769-aae9-4787-bb39-89a97f2032f9"
   },
   "outputs": [
    {
     "name": "stdout",
     "output_type": "stream",
     "text": [
      "Drive already mounted at /content/drive; to attempt to forcibly remount, call drive.mount(\"/content/drive\", force_remount=True).\n"
     ]
    }
   ],
   "source": [
    "# For Colab\n",
    "from google.colab import drive\n",
    "drive.mount('/content/drive')\n",
    "sys.path.append(\"/content/drive/MyDrive/Diplom/\")"
   ]
  },
  {
   "cell_type": "code",
   "execution_count": 6,
   "metadata": {
    "_cell_guid": "a41c9380-476b-4613-a95b-07159c7b5e7f",
    "_uuid": "a38fc1b6-f5ba-4c6f-aef7-826435dde5e8",
    "collapsed": false,
    "executionInfo": {
     "elapsed": 993,
     "status": "ok",
     "timestamp": 1749826492542,
     "user": {
      "displayName": "Vahagn Dovlatyan Univ",
      "userId": "11218036502332640401"
     },
     "user_tz": -240
    },
    "id": "pVT2D04HE-Du",
    "jupyter": {
     "outputs_hidden": false
    }
   },
   "outputs": [],
   "source": [
    "# For Colab\n",
    "df = pd.read_csv(\"/content/drive/MyDrive/Diplom/data/close_adjusted_17.csv\")"
   ]
  },
  {
   "cell_type": "code",
   "execution_count": 7,
   "metadata": {
    "_cell_guid": "856ff073-0e6e-460d-afa9-ae9ffee8cc9e",
    "_uuid": "0f7a3458-5e6c-41b1-9d1a-ca04cd9db82f",
    "collapsed": false,
    "execution": {
     "iopub.execute_input": "2025-04-18T02:42:22.573756Z",
     "iopub.status.busy": "2025-04-18T02:42:22.572993Z",
     "iopub.status.idle": "2025-04-18T02:42:23.059152Z",
     "shell.execute_reply": "2025-04-18T02:42:23.058622Z",
     "shell.execute_reply.started": "2025-04-18T02:42:22.573732Z"
    },
    "executionInfo": {
     "elapsed": 2,
     "status": "ok",
     "timestamp": 1749826492545,
     "user": {
      "displayName": "Vahagn Dovlatyan Univ",
      "userId": "11218036502332640401"
     },
     "user_tz": -240
    },
    "id": "DcPgkon18xPH",
    "jupyter": {
     "outputs_hidden": false
    }
   },
   "outputs": [],
   "source": [
    "# For Kaggle\n",
    "# df = pd.read_csv(\"/kaggle/input/stock-prices/data/close_adjusted_17.csv\")"
   ]
  },
  {
   "cell_type": "code",
   "execution_count": 2,
   "metadata": {},
   "outputs": [],
   "source": [
    "# For Local\n",
    "df = ohlcv_adjusted_mag7_data.get_close()"
   ]
  },
  {
   "cell_type": "markdown",
   "metadata": {
    "id": "MKkQBmn25BRQ"
   },
   "source": [
    "# Fixing seed"
   ]
  },
  {
   "cell_type": "code",
   "execution_count": 40,
   "metadata": {
    "executionInfo": {
     "elapsed": 6,
     "status": "ok",
     "timestamp": 1749828294558,
     "user": {
      "displayName": "Vahagn Dovlatyan Univ",
      "userId": "11218036502332640401"
     },
     "user_tz": -240
    },
    "id": "9gDBl87t5DWW"
   },
   "outputs": [],
   "source": [
    "seed = 42\n",
    "random.seed(seed)\n",
    "np.random.seed(seed)\n",
    "torch.manual_seed(seed)\n",
    "torch.cuda.manual_seed(seed)\n",
    "torch.cuda.manual_seed_all(seed)  # if using multi-GPU\n",
    "\n",
    "torch.backends.cudnn.deterministic = True\n",
    "torch.backends.cudnn.benchmark = False"
   ]
  },
  {
   "cell_type": "markdown",
   "metadata": {
    "_cell_guid": "9074c38c-9fd9-45f8-bc7b-d8ee24231323",
    "_uuid": "9648a4ab-c701-44b3-a903-7f13cec91eb6",
    "collapsed": false,
    "id": "N64yTwecEHtU",
    "jupyter": {
     "outputs_hidden": false
    }
   },
   "source": [
    "# Cleaning dataframe"
   ]
  },
  {
   "cell_type": "code",
   "execution_count": 8,
   "metadata": {
    "_cell_guid": "2c092f5e-a94c-4ceb-affc-e88c2baeb931",
    "_uuid": "dd6ef9bb-0c18-4f51-a161-4559655d833c",
    "collapsed": true,
    "execution": {
     "iopub.execute_input": "2025-04-18T02:42:24.496120Z",
     "iopub.status.busy": "2025-04-18T02:42:24.495869Z",
     "iopub.status.idle": "2025-04-18T02:42:24.575121Z",
     "shell.execute_reply": "2025-04-18T02:42:24.574387Z",
     "shell.execute_reply.started": "2025-04-18T02:42:24.496100Z"
    },
    "executionInfo": {
     "elapsed": 84,
     "status": "ok",
     "timestamp": 1749826569920,
     "user": {
      "displayName": "Vahagn Dovlatyan Univ",
      "userId": "11218036502332640401"
     },
     "user_tz": -240
    },
    "id": "Ap-YtumCEHAV",
    "jupyter": {
     "outputs_hidden": true
    }
   },
   "outputs": [],
   "source": [
    "# Convert 'date' to datetime\n",
    "df[\"date\"] = pd.to_datetime(df[\"date\"], errors=\"coerce\")\n",
    "\n",
    "# Set 'date' as index\n",
    "df.set_index(\"date\", inplace=True)\n",
    "\n",
    "#Getting rid of missing values\n",
    "df = df.dropna(axis=1)"
   ]
  },
  {
   "cell_type": "code",
   "execution_count": 9,
   "metadata": {
    "_cell_guid": "1f045e7d-aa88-4426-a9b0-9ea2c51b7399",
    "_uuid": "ae39839c-9536-46e3-a496-fe08dac6e857",
    "colab": {
     "base_uri": "https://localhost:8080/"
    },
    "collapsed": false,
    "execution": {
     "iopub.execute_input": "2025-04-18T02:42:25.775169Z",
     "iopub.status.busy": "2025-04-18T02:42:25.774491Z",
     "iopub.status.idle": "2025-04-18T02:42:25.780241Z",
     "shell.execute_reply": "2025-04-18T02:42:25.779482Z",
     "shell.execute_reply.started": "2025-04-18T02:42:25.775132Z"
    },
    "executionInfo": {
     "elapsed": 8,
     "status": "ok",
     "timestamp": 1749826569938,
     "user": {
      "displayName": "Vahagn Dovlatyan Univ",
      "userId": "11218036502332640401"
     },
     "user_tz": -240
    },
    "id": "0kRuMNdvERc0",
    "jupyter": {
     "outputs_hidden": false
    },
    "outputId": "e2215429-9588-4d5a-d082-bf2b740ed81b"
   },
   "outputs": [
    {
     "data": {
      "text/plain": [
       "(4378, 378)"
      ]
     },
     "execution_count": 9,
     "metadata": {},
     "output_type": "execute_result"
    }
   ],
   "source": [
    "df.shape"
   ]
  },
  {
   "cell_type": "code",
   "execution_count": 10,
   "metadata": {
    "_cell_guid": "79f57088-fd1e-45dd-825f-834e10491ab7",
    "_uuid": "8fb9488e-c2f7-4533-a337-20c1262c93c9",
    "collapsed": false,
    "execution": {
     "iopub.execute_input": "2025-04-18T02:42:26.908336Z",
     "iopub.status.busy": "2025-04-18T02:42:26.908047Z",
     "iopub.status.idle": "2025-04-18T02:42:26.930356Z",
     "shell.execute_reply": "2025-04-18T02:42:26.929483Z",
     "shell.execute_reply.started": "2025-04-18T02:42:26.908313Z"
    },
    "executionInfo": {
     "elapsed": 1,
     "status": "ok",
     "timestamp": 1749826569941,
     "user": {
      "displayName": "Vahagn Dovlatyan Univ",
      "userId": "11218036502332640401"
     },
     "user_tz": -240
    },
    "id": "g8YCV391IRau",
    "jupyter": {
     "outputs_hidden": false
    }
   },
   "outputs": [],
   "source": [
    "# Train Data: 2006-2017\n",
    "train_prices = df.loc[:'2017']\n",
    "\n",
    "# Validation Data: 2018\n",
    "val_prices = df.loc['2018']\n",
    "\n",
    "# Test Data: 2019 onward\n",
    "test_prices = df.loc['2019':]"
   ]
  },
  {
   "cell_type": "code",
   "execution_count": 11,
   "metadata": {
    "_cell_guid": "52329cfc-02c3-4693-a5a1-bd003d0743ab",
    "_uuid": "36216f28-6b73-48db-96a5-29e2e306dd71",
    "collapsed": false,
    "execution": {
     "iopub.execute_input": "2025-04-18T02:42:28.268352Z",
     "iopub.status.busy": "2025-04-18T02:42:28.268055Z",
     "iopub.status.idle": "2025-04-18T02:42:28.316090Z",
     "shell.execute_reply": "2025-04-18T02:42:28.315266Z",
     "shell.execute_reply.started": "2025-04-18T02:42:28.268332Z"
    },
    "executionInfo": {
     "elapsed": 30,
     "status": "ok",
     "timestamp": 1749826569972,
     "user": {
      "displayName": "Vahagn Dovlatyan Univ",
      "userId": "11218036502332640401"
     },
     "user_tz": -240
    },
    "id": "SmB_D9SHIuzf",
    "jupyter": {
     "outputs_hidden": false
    }
   },
   "outputs": [],
   "source": [
    "train_returns = ((train_prices - train_prices.shift(1)) / train_prices.shift(1)).iloc[1:]\n",
    "val_returns = ((val_prices - val_prices.shift(1)) / val_prices.shift(1)).iloc[1:]\n",
    "test_returns = ((test_prices - test_prices.shift(1)) / test_prices.shift(1)).iloc[1:]"
   ]
  },
  {
   "cell_type": "code",
   "execution_count": 12,
   "metadata": {
    "_cell_guid": "aeeab543-3670-4d7c-b80a-0fa2385e23c8",
    "_uuid": "f77e4712-63a9-4652-9674-525ae30edb04",
    "collapsed": false,
    "execution": {
     "iopub.execute_input": "2025-04-18T02:42:29.446587Z",
     "iopub.status.busy": "2025-04-18T02:42:29.446315Z",
     "iopub.status.idle": "2025-04-18T02:42:29.451910Z",
     "shell.execute_reply": "2025-04-18T02:42:29.451156Z",
     "shell.execute_reply.started": "2025-04-18T02:42:29.446568Z"
    },
    "executionInfo": {
     "elapsed": 10,
     "status": "ok",
     "timestamp": 1749826569988,
     "user": {
      "displayName": "Vahagn Dovlatyan Univ",
      "userId": "11218036502332640401"
     },
     "user_tz": -240
    },
    "id": "Z8X8-7INIZ0l",
    "jupyter": {
     "outputs_hidden": false
    }
   },
   "outputs": [],
   "source": [
    "train_prices = train_prices.iloc[1:]\n",
    "val_prices = val_prices.iloc[1:]\n",
    "test_prices = test_prices.iloc[1:]"
   ]
  },
  {
   "cell_type": "code",
   "execution_count": 13,
   "metadata": {
    "colab": {
     "base_uri": "https://localhost:8080/"
    },
    "executionInfo": {
     "elapsed": 13,
     "status": "ok",
     "timestamp": 1749826570008,
     "user": {
      "displayName": "Vahagn Dovlatyan Univ",
      "userId": "11218036502332640401"
     },
     "user_tz": -240
    },
    "id": "Xmmndo_kv1fj",
    "outputId": "b00ea527-e6b4-4e28-bbf6-3fdf5cca9093"
   },
   "outputs": [
    {
     "data": {
      "text/plain": [
       "((3018, 378), (250, 378), (1107, 378))"
      ]
     },
     "execution_count": 13,
     "metadata": {},
     "output_type": "execute_result"
    }
   ],
   "source": [
    "train_prices.shape, val_prices.shape, test_prices.shape"
   ]
  },
  {
   "cell_type": "code",
   "execution_count": 14,
   "metadata": {
    "_cell_guid": "9add8266-5230-4a4e-baf8-9fd192cc02c5",
    "_uuid": "9e32c66b-4ab2-44db-858f-42648d4e0d1a",
    "colab": {
     "base_uri": "https://localhost:8080/"
    },
    "collapsed": false,
    "execution": {
     "iopub.execute_input": "2025-04-18T02:42:30.569788Z",
     "iopub.status.busy": "2025-04-18T02:42:30.569098Z",
     "iopub.status.idle": "2025-04-18T02:42:30.575302Z",
     "shell.execute_reply": "2025-04-18T02:42:30.574600Z",
     "shell.execute_reply.started": "2025-04-18T02:42:30.569755Z"
    },
    "executionInfo": {
     "elapsed": 10,
     "status": "ok",
     "timestamp": 1749826570034,
     "user": {
      "displayName": "Vahagn Dovlatyan Univ",
      "userId": "11218036502332640401"
     },
     "user_tz": -240
    },
    "id": "OGLhd4pCJdQw",
    "jupyter": {
     "outputs_hidden": false
    },
    "outputId": "ef0c6fb2-8fe4-4f52-d1f3-997b78b75915"
   },
   "outputs": [
    {
     "data": {
      "text/plain": [
       "((3018, 378), (250, 378), (1107, 378))"
      ]
     },
     "execution_count": 14,
     "metadata": {},
     "output_type": "execute_result"
    }
   ],
   "source": [
    "train_returns.shape, val_returns.shape, test_returns.shape"
   ]
  },
  {
   "cell_type": "code",
   "execution_count": 15,
   "metadata": {
    "_cell_guid": "9dddbbe4-4615-4885-aa24-8f086a766f5d",
    "_uuid": "379b3ebd-325d-44f5-b3fe-d1bd70f4fa82",
    "colab": {
     "base_uri": "https://localhost:8080/",
     "height": 0
    },
    "collapsed": false,
    "execution": {
     "iopub.execute_input": "2025-04-18T02:42:31.848067Z",
     "iopub.status.busy": "2025-04-18T02:42:31.847685Z",
     "iopub.status.idle": "2025-04-18T02:42:32.807846Z",
     "shell.execute_reply": "2025-04-18T02:42:32.807027Z",
     "shell.execute_reply.started": "2025-04-18T02:42:31.848034Z"
    },
    "executionInfo": {
     "elapsed": 1192,
     "status": "ok",
     "timestamp": 1749826571232,
     "user": {
      "displayName": "Vahagn Dovlatyan Univ",
      "userId": "11218036502332640401"
     },
     "user_tz": -240
    },
    "id": "vh-vTl1nU7nC",
    "jupyter": {
     "outputs_hidden": false
    },
    "outputId": "1cceae13-3c0a-4f3c-ef7c-aef171055dc6"
   },
   "outputs": [
    {
     "data": {
      "application/vnd.google.colaboratory.intrinsic+json": {
       "type": "dataframe"
      },
      "text/html": [
       "\n",
       "  <div id=\"df-bbd3108b-eaf0-4590-b4cb-eb155770c262\" class=\"colab-df-container\">\n",
       "    <div>\n",
       "<style scoped>\n",
       "    .dataframe tbody tr th:only-of-type {\n",
       "        vertical-align: middle;\n",
       "    }\n",
       "\n",
       "    .dataframe tbody tr th {\n",
       "        vertical-align: top;\n",
       "    }\n",
       "\n",
       "    .dataframe thead th {\n",
       "        text-align: right;\n",
       "    }\n",
       "</style>\n",
       "<table border=\"1\" class=\"dataframe\">\n",
       "  <thead>\n",
       "    <tr style=\"text-align: right;\">\n",
       "      <th></th>\n",
       "      <th>CSCO.close</th>\n",
       "      <th>TROW.close</th>\n",
       "      <th>ISRG.close</th>\n",
       "      <th>PRGO.close</th>\n",
       "      <th>TPR.close</th>\n",
       "      <th>DVN.close</th>\n",
       "      <th>MRO.close</th>\n",
       "      <th>BA.close</th>\n",
       "      <th>GILD.close</th>\n",
       "      <th>EQIX.close</th>\n",
       "      <th>...</th>\n",
       "      <th>M.close</th>\n",
       "      <th>CRM.close</th>\n",
       "      <th>PGR.close</th>\n",
       "      <th>WAT.close</th>\n",
       "      <th>BWA.close</th>\n",
       "      <th>LRCX.close</th>\n",
       "      <th>NWL.close</th>\n",
       "      <th>UAA.close</th>\n",
       "      <th>BLK.close</th>\n",
       "      <th>PPL.close</th>\n",
       "    </tr>\n",
       "  </thead>\n",
       "  <tbody>\n",
       "    <tr>\n",
       "      <th>count</th>\n",
       "      <td>3018.000000</td>\n",
       "      <td>3018.000000</td>\n",
       "      <td>3018.000000</td>\n",
       "      <td>3018.000000</td>\n",
       "      <td>3018.000000</td>\n",
       "      <td>3018.000000</td>\n",
       "      <td>3018.000000</td>\n",
       "      <td>3018.000000</td>\n",
       "      <td>3018.000000</td>\n",
       "      <td>3018.000000</td>\n",
       "      <td>...</td>\n",
       "      <td>3018.000000</td>\n",
       "      <td>3018.000000</td>\n",
       "      <td>3018.000000</td>\n",
       "      <td>3018.000000</td>\n",
       "      <td>3018.000000</td>\n",
       "      <td>3018.000000</td>\n",
       "      <td>3018.000000</td>\n",
       "      <td>3018.000000</td>\n",
       "      <td>3018.000000</td>\n",
       "      <td>3018.000000</td>\n",
       "    </tr>\n",
       "    <tr>\n",
       "      <th>mean</th>\n",
       "      <td>0.000485</td>\n",
       "      <td>0.000724</td>\n",
       "      <td>0.001055</td>\n",
       "      <td>0.000807</td>\n",
       "      <td>0.000468</td>\n",
       "      <td>0.000205</td>\n",
       "      <td>0.000399</td>\n",
       "      <td>0.000720</td>\n",
       "      <td>0.000747</td>\n",
       "      <td>0.001113</td>\n",
       "      <td>...</td>\n",
       "      <td>0.000360</td>\n",
       "      <td>0.001160</td>\n",
       "      <td>0.000498</td>\n",
       "      <td>0.000702</td>\n",
       "      <td>0.000720</td>\n",
       "      <td>0.000830</td>\n",
       "      <td>0.000417</td>\n",
       "      <td>0.000894</td>\n",
       "      <td>0.000862</td>\n",
       "      <td>0.000306</td>\n",
       "    </tr>\n",
       "    <tr>\n",
       "      <th>std</th>\n",
       "      <td>0.018361</td>\n",
       "      <td>0.023482</td>\n",
       "      <td>0.025874</td>\n",
       "      <td>0.020220</td>\n",
       "      <td>0.024315</td>\n",
       "      <td>0.025126</td>\n",
       "      <td>0.027014</td>\n",
       "      <td>0.017455</td>\n",
       "      <td>0.019056</td>\n",
       "      <td>0.023538</td>\n",
       "      <td>...</td>\n",
       "      <td>0.027173</td>\n",
       "      <td>0.026764</td>\n",
       "      <td>0.017207</td>\n",
       "      <td>0.017925</td>\n",
       "      <td>0.024140</td>\n",
       "      <td>0.023793</td>\n",
       "      <td>0.021565</td>\n",
       "      <td>0.030767</td>\n",
       "      <td>0.022711</td>\n",
       "      <td>0.014213</td>\n",
       "    </tr>\n",
       "    <tr>\n",
       "      <th>min</th>\n",
       "      <td>-0.162109</td>\n",
       "      <td>-0.179387</td>\n",
       "      <td>-0.172167</td>\n",
       "      <td>-0.211412</td>\n",
       "      <td>-0.185706</td>\n",
       "      <td>-0.166888</td>\n",
       "      <td>-0.195645</td>\n",
       "      <td>-0.089290</td>\n",
       "      <td>-0.143383</td>\n",
       "      <td>-0.330669</td>\n",
       "      <td>...</td>\n",
       "      <td>-0.175247</td>\n",
       "      <td>-0.184533</td>\n",
       "      <td>-0.130179</td>\n",
       "      <td>-0.200055</td>\n",
       "      <td>-0.136625</td>\n",
       "      <td>-0.146129</td>\n",
       "      <td>-0.273147</td>\n",
       "      <td>-0.257429</td>\n",
       "      <td>-0.155242</td>\n",
       "      <td>-0.131840</td>\n",
       "    </tr>\n",
       "    <tr>\n",
       "      <th>25%</th>\n",
       "      <td>-0.007253</td>\n",
       "      <td>-0.008911</td>\n",
       "      <td>-0.009461</td>\n",
       "      <td>-0.008821</td>\n",
       "      <td>-0.010933</td>\n",
       "      <td>-0.012409</td>\n",
       "      <td>-0.012472</td>\n",
       "      <td>-0.008048</td>\n",
       "      <td>-0.009126</td>\n",
       "      <td>-0.009878</td>\n",
       "      <td>...</td>\n",
       "      <td>-0.011685</td>\n",
       "      <td>-0.011650</td>\n",
       "      <td>-0.007035</td>\n",
       "      <td>-0.007042</td>\n",
       "      <td>-0.010358</td>\n",
       "      <td>-0.011577</td>\n",
       "      <td>-0.008430</td>\n",
       "      <td>-0.013939</td>\n",
       "      <td>-0.008698</td>\n",
       "      <td>-0.006395</td>\n",
       "    </tr>\n",
       "    <tr>\n",
       "      <th>50%</th>\n",
       "      <td>0.000454</td>\n",
       "      <td>0.000373</td>\n",
       "      <td>0.000420</td>\n",
       "      <td>0.000972</td>\n",
       "      <td>0.000343</td>\n",
       "      <td>0.000000</td>\n",
       "      <td>0.000566</td>\n",
       "      <td>0.001012</td>\n",
       "      <td>0.000693</td>\n",
       "      <td>0.000855</td>\n",
       "      <td>...</td>\n",
       "      <td>0.000528</td>\n",
       "      <td>0.000206</td>\n",
       "      <td>0.000434</td>\n",
       "      <td>0.000725</td>\n",
       "      <td>0.000470</td>\n",
       "      <td>0.000787</td>\n",
       "      <td>0.000330</td>\n",
       "      <td>0.000879</td>\n",
       "      <td>0.000306</td>\n",
       "      <td>0.000799</td>\n",
       "    </tr>\n",
       "    <tr>\n",
       "      <th>75%</th>\n",
       "      <td>0.008605</td>\n",
       "      <td>0.009733</td>\n",
       "      <td>0.010863</td>\n",
       "      <td>0.010798</td>\n",
       "      <td>0.011278</td>\n",
       "      <td>0.013070</td>\n",
       "      <td>0.013846</td>\n",
       "      <td>0.009534</td>\n",
       "      <td>0.010473</td>\n",
       "      <td>0.010944</td>\n",
       "      <td>...</td>\n",
       "      <td>0.012243</td>\n",
       "      <td>0.013232</td>\n",
       "      <td>0.007974</td>\n",
       "      <td>0.008612</td>\n",
       "      <td>0.011899</td>\n",
       "      <td>0.013214</td>\n",
       "      <td>0.009296</td>\n",
       "      <td>0.015506</td>\n",
       "      <td>0.010610</td>\n",
       "      <td>0.007459</td>\n",
       "    </tr>\n",
       "    <tr>\n",
       "      <th>max</th>\n",
       "      <td>0.159501</td>\n",
       "      <td>0.181666</td>\n",
       "      <td>0.323227</td>\n",
       "      <td>0.183899</td>\n",
       "      <td>0.204482</td>\n",
       "      <td>0.214667</td>\n",
       "      <td>0.233562</td>\n",
       "      <td>0.154628</td>\n",
       "      <td>0.138239</td>\n",
       "      <td>0.171050</td>\n",
       "      <td>...</td>\n",
       "      <td>0.181808</td>\n",
       "      <td>0.191308</td>\n",
       "      <td>0.239742</td>\n",
       "      <td>0.162599</td>\n",
       "      <td>0.228278</td>\n",
       "      <td>0.151911</td>\n",
       "      <td>0.205310</td>\n",
       "      <td>0.263383</td>\n",
       "      <td>0.195609</td>\n",
       "      <td>0.148006</td>\n",
       "    </tr>\n",
       "  </tbody>\n",
       "</table>\n",
       "<p>8 rows × 378 columns</p>\n",
       "</div>\n",
       "    <div class=\"colab-df-buttons\">\n",
       "\n",
       "  <div class=\"colab-df-container\">\n",
       "    <button class=\"colab-df-convert\" onclick=\"convertToInteractive('df-bbd3108b-eaf0-4590-b4cb-eb155770c262')\"\n",
       "            title=\"Convert this dataframe to an interactive table.\"\n",
       "            style=\"display:none;\">\n",
       "\n",
       "  <svg xmlns=\"http://www.w3.org/2000/svg\" height=\"24px\" viewBox=\"0 -960 960 960\">\n",
       "    <path d=\"M120-120v-720h720v720H120Zm60-500h600v-160H180v160Zm220 220h160v-160H400v160Zm0 220h160v-160H400v160ZM180-400h160v-160H180v160Zm440 0h160v-160H620v160ZM180-180h160v-160H180v160Zm440 0h160v-160H620v160Z\"/>\n",
       "  </svg>\n",
       "    </button>\n",
       "\n",
       "  <style>\n",
       "    .colab-df-container {\n",
       "      display:flex;\n",
       "      gap: 12px;\n",
       "    }\n",
       "\n",
       "    .colab-df-convert {\n",
       "      background-color: #E8F0FE;\n",
       "      border: none;\n",
       "      border-radius: 50%;\n",
       "      cursor: pointer;\n",
       "      display: none;\n",
       "      fill: #1967D2;\n",
       "      height: 32px;\n",
       "      padding: 0 0 0 0;\n",
       "      width: 32px;\n",
       "    }\n",
       "\n",
       "    .colab-df-convert:hover {\n",
       "      background-color: #E2EBFA;\n",
       "      box-shadow: 0px 1px 2px rgba(60, 64, 67, 0.3), 0px 1px 3px 1px rgba(60, 64, 67, 0.15);\n",
       "      fill: #174EA6;\n",
       "    }\n",
       "\n",
       "    .colab-df-buttons div {\n",
       "      margin-bottom: 4px;\n",
       "    }\n",
       "\n",
       "    [theme=dark] .colab-df-convert {\n",
       "      background-color: #3B4455;\n",
       "      fill: #D2E3FC;\n",
       "    }\n",
       "\n",
       "    [theme=dark] .colab-df-convert:hover {\n",
       "      background-color: #434B5C;\n",
       "      box-shadow: 0px 1px 3px 1px rgba(0, 0, 0, 0.15);\n",
       "      filter: drop-shadow(0px 1px 2px rgba(0, 0, 0, 0.3));\n",
       "      fill: #FFFFFF;\n",
       "    }\n",
       "  </style>\n",
       "\n",
       "    <script>\n",
       "      const buttonEl =\n",
       "        document.querySelector('#df-bbd3108b-eaf0-4590-b4cb-eb155770c262 button.colab-df-convert');\n",
       "      buttonEl.style.display =\n",
       "        google.colab.kernel.accessAllowed ? 'block' : 'none';\n",
       "\n",
       "      async function convertToInteractive(key) {\n",
       "        const element = document.querySelector('#df-bbd3108b-eaf0-4590-b4cb-eb155770c262');\n",
       "        const dataTable =\n",
       "          await google.colab.kernel.invokeFunction('convertToInteractive',\n",
       "                                                    [key], {});\n",
       "        if (!dataTable) return;\n",
       "\n",
       "        const docLinkHtml = 'Like what you see? Visit the ' +\n",
       "          '<a target=\"_blank\" href=https://colab.research.google.com/notebooks/data_table.ipynb>data table notebook</a>'\n",
       "          + ' to learn more about interactive tables.';\n",
       "        element.innerHTML = '';\n",
       "        dataTable['output_type'] = 'display_data';\n",
       "        await google.colab.output.renderOutput(dataTable, element);\n",
       "        const docLink = document.createElement('div');\n",
       "        docLink.innerHTML = docLinkHtml;\n",
       "        element.appendChild(docLink);\n",
       "      }\n",
       "    </script>\n",
       "  </div>\n",
       "\n",
       "\n",
       "    <div id=\"df-2ab80a0c-a79a-4d6a-bd5f-02cc94811683\">\n",
       "      <button class=\"colab-df-quickchart\" onclick=\"quickchart('df-2ab80a0c-a79a-4d6a-bd5f-02cc94811683')\"\n",
       "                title=\"Suggest charts\"\n",
       "                style=\"display:none;\">\n",
       "\n",
       "<svg xmlns=\"http://www.w3.org/2000/svg\" height=\"24px\"viewBox=\"0 0 24 24\"\n",
       "     width=\"24px\">\n",
       "    <g>\n",
       "        <path d=\"M19 3H5c-1.1 0-2 .9-2 2v14c0 1.1.9 2 2 2h14c1.1 0 2-.9 2-2V5c0-1.1-.9-2-2-2zM9 17H7v-7h2v7zm4 0h-2V7h2v10zm4 0h-2v-4h2v4z\"/>\n",
       "    </g>\n",
       "</svg>\n",
       "      </button>\n",
       "\n",
       "<style>\n",
       "  .colab-df-quickchart {\n",
       "      --bg-color: #E8F0FE;\n",
       "      --fill-color: #1967D2;\n",
       "      --hover-bg-color: #E2EBFA;\n",
       "      --hover-fill-color: #174EA6;\n",
       "      --disabled-fill-color: #AAA;\n",
       "      --disabled-bg-color: #DDD;\n",
       "  }\n",
       "\n",
       "  [theme=dark] .colab-df-quickchart {\n",
       "      --bg-color: #3B4455;\n",
       "      --fill-color: #D2E3FC;\n",
       "      --hover-bg-color: #434B5C;\n",
       "      --hover-fill-color: #FFFFFF;\n",
       "      --disabled-bg-color: #3B4455;\n",
       "      --disabled-fill-color: #666;\n",
       "  }\n",
       "\n",
       "  .colab-df-quickchart {\n",
       "    background-color: var(--bg-color);\n",
       "    border: none;\n",
       "    border-radius: 50%;\n",
       "    cursor: pointer;\n",
       "    display: none;\n",
       "    fill: var(--fill-color);\n",
       "    height: 32px;\n",
       "    padding: 0;\n",
       "    width: 32px;\n",
       "  }\n",
       "\n",
       "  .colab-df-quickchart:hover {\n",
       "    background-color: var(--hover-bg-color);\n",
       "    box-shadow: 0 1px 2px rgba(60, 64, 67, 0.3), 0 1px 3px 1px rgba(60, 64, 67, 0.15);\n",
       "    fill: var(--button-hover-fill-color);\n",
       "  }\n",
       "\n",
       "  .colab-df-quickchart-complete:disabled,\n",
       "  .colab-df-quickchart-complete:disabled:hover {\n",
       "    background-color: var(--disabled-bg-color);\n",
       "    fill: var(--disabled-fill-color);\n",
       "    box-shadow: none;\n",
       "  }\n",
       "\n",
       "  .colab-df-spinner {\n",
       "    border: 2px solid var(--fill-color);\n",
       "    border-color: transparent;\n",
       "    border-bottom-color: var(--fill-color);\n",
       "    animation:\n",
       "      spin 1s steps(1) infinite;\n",
       "  }\n",
       "\n",
       "  @keyframes spin {\n",
       "    0% {\n",
       "      border-color: transparent;\n",
       "      border-bottom-color: var(--fill-color);\n",
       "      border-left-color: var(--fill-color);\n",
       "    }\n",
       "    20% {\n",
       "      border-color: transparent;\n",
       "      border-left-color: var(--fill-color);\n",
       "      border-top-color: var(--fill-color);\n",
       "    }\n",
       "    30% {\n",
       "      border-color: transparent;\n",
       "      border-left-color: var(--fill-color);\n",
       "      border-top-color: var(--fill-color);\n",
       "      border-right-color: var(--fill-color);\n",
       "    }\n",
       "    40% {\n",
       "      border-color: transparent;\n",
       "      border-right-color: var(--fill-color);\n",
       "      border-top-color: var(--fill-color);\n",
       "    }\n",
       "    60% {\n",
       "      border-color: transparent;\n",
       "      border-right-color: var(--fill-color);\n",
       "    }\n",
       "    80% {\n",
       "      border-color: transparent;\n",
       "      border-right-color: var(--fill-color);\n",
       "      border-bottom-color: var(--fill-color);\n",
       "    }\n",
       "    90% {\n",
       "      border-color: transparent;\n",
       "      border-bottom-color: var(--fill-color);\n",
       "    }\n",
       "  }\n",
       "</style>\n",
       "\n",
       "      <script>\n",
       "        async function quickchart(key) {\n",
       "          const quickchartButtonEl =\n",
       "            document.querySelector('#' + key + ' button');\n",
       "          quickchartButtonEl.disabled = true;  // To prevent multiple clicks.\n",
       "          quickchartButtonEl.classList.add('colab-df-spinner');\n",
       "          try {\n",
       "            const charts = await google.colab.kernel.invokeFunction(\n",
       "                'suggestCharts', [key], {});\n",
       "          } catch (error) {\n",
       "            console.error('Error during call to suggestCharts:', error);\n",
       "          }\n",
       "          quickchartButtonEl.classList.remove('colab-df-spinner');\n",
       "          quickchartButtonEl.classList.add('colab-df-quickchart-complete');\n",
       "        }\n",
       "        (() => {\n",
       "          let quickchartButtonEl =\n",
       "            document.querySelector('#df-2ab80a0c-a79a-4d6a-bd5f-02cc94811683 button');\n",
       "          quickchartButtonEl.style.display =\n",
       "            google.colab.kernel.accessAllowed ? 'block' : 'none';\n",
       "        })();\n",
       "      </script>\n",
       "    </div>\n",
       "\n",
       "    </div>\n",
       "  </div>\n"
      ],
      "text/plain": [
       "        CSCO.close   TROW.close   ISRG.close   PRGO.close    TPR.close  \\\n",
       "count  3018.000000  3018.000000  3018.000000  3018.000000  3018.000000   \n",
       "mean      0.000485     0.000724     0.001055     0.000807     0.000468   \n",
       "std       0.018361     0.023482     0.025874     0.020220     0.024315   \n",
       "min      -0.162109    -0.179387    -0.172167    -0.211412    -0.185706   \n",
       "25%      -0.007253    -0.008911    -0.009461    -0.008821    -0.010933   \n",
       "50%       0.000454     0.000373     0.000420     0.000972     0.000343   \n",
       "75%       0.008605     0.009733     0.010863     0.010798     0.011278   \n",
       "max       0.159501     0.181666     0.323227     0.183899     0.204482   \n",
       "\n",
       "         DVN.close    MRO.close     BA.close   GILD.close   EQIX.close  ...  \\\n",
       "count  3018.000000  3018.000000  3018.000000  3018.000000  3018.000000  ...   \n",
       "mean      0.000205     0.000399     0.000720     0.000747     0.001113  ...   \n",
       "std       0.025126     0.027014     0.017455     0.019056     0.023538  ...   \n",
       "min      -0.166888    -0.195645    -0.089290    -0.143383    -0.330669  ...   \n",
       "25%      -0.012409    -0.012472    -0.008048    -0.009126    -0.009878  ...   \n",
       "50%       0.000000     0.000566     0.001012     0.000693     0.000855  ...   \n",
       "75%       0.013070     0.013846     0.009534     0.010473     0.010944  ...   \n",
       "max       0.214667     0.233562     0.154628     0.138239     0.171050  ...   \n",
       "\n",
       "           M.close    CRM.close    PGR.close    WAT.close    BWA.close  \\\n",
       "count  3018.000000  3018.000000  3018.000000  3018.000000  3018.000000   \n",
       "mean      0.000360     0.001160     0.000498     0.000702     0.000720   \n",
       "std       0.027173     0.026764     0.017207     0.017925     0.024140   \n",
       "min      -0.175247    -0.184533    -0.130179    -0.200055    -0.136625   \n",
       "25%      -0.011685    -0.011650    -0.007035    -0.007042    -0.010358   \n",
       "50%       0.000528     0.000206     0.000434     0.000725     0.000470   \n",
       "75%       0.012243     0.013232     0.007974     0.008612     0.011899   \n",
       "max       0.181808     0.191308     0.239742     0.162599     0.228278   \n",
       "\n",
       "        LRCX.close    NWL.close    UAA.close    BLK.close    PPL.close  \n",
       "count  3018.000000  3018.000000  3018.000000  3018.000000  3018.000000  \n",
       "mean      0.000830     0.000417     0.000894     0.000862     0.000306  \n",
       "std       0.023793     0.021565     0.030767     0.022711     0.014213  \n",
       "min      -0.146129    -0.273147    -0.257429    -0.155242    -0.131840  \n",
       "25%      -0.011577    -0.008430    -0.013939    -0.008698    -0.006395  \n",
       "50%       0.000787     0.000330     0.000879     0.000306     0.000799  \n",
       "75%       0.013214     0.009296     0.015506     0.010610     0.007459  \n",
       "max       0.151911     0.205310     0.263383     0.195609     0.148006  \n",
       "\n",
       "[8 rows x 378 columns]"
      ]
     },
     "execution_count": 15,
     "metadata": {},
     "output_type": "execute_result"
    }
   ],
   "source": [
    "train_returns.describe()"
   ]
  },
  {
   "cell_type": "markdown",
   "metadata": {
    "id": "gw1OPfPM-mtW"
   },
   "source": [
    "# Normalizing train and test"
   ]
  },
  {
   "cell_type": "code",
   "execution_count": 16,
   "metadata": {
    "executionInfo": {
     "elapsed": 72,
     "status": "ok",
     "timestamp": 1749826572435,
     "user": {
      "displayName": "Vahagn Dovlatyan Univ",
      "userId": "11218036502332640401"
     },
     "user_tz": -240
    },
    "id": "Rt_sqJif-Hsm"
   },
   "outputs": [],
   "source": [
    "# Normalizing train and validation\n",
    "\n",
    "# scaler_prices = MinMaxScaler(feature_range=(0, 1))\n",
    "# scaler_returns = MinMaxScaler(feature_range=(-1, 1))\n",
    "\n",
    "# scaler_prices = StandardScaler()\n",
    "scaler_returns = StandardScaler()"
   ]
  },
  {
   "cell_type": "code",
   "execution_count": 17,
   "metadata": {
    "colab": {
     "base_uri": "https://localhost:8080/",
     "height": 81
    },
    "executionInfo": {
     "elapsed": 43,
     "status": "ok",
     "timestamp": 1749826572440,
     "user": {
      "displayName": "Vahagn Dovlatyan Univ",
      "userId": "11218036502332640401"
     },
     "user_tz": -240
    },
    "id": "GcFwBAZc-P6G",
    "outputId": "be8a7a7b-41e9-42ee-d3b0-3c66fd0841c1"
   },
   "outputs": [
    {
     "data": {
      "text/html": [
       "<style>#sk-container-id-1 {\n",
       "  /* Definition of color scheme common for light and dark mode */\n",
       "  --sklearn-color-text: #000;\n",
       "  --sklearn-color-text-muted: #666;\n",
       "  --sklearn-color-line: gray;\n",
       "  /* Definition of color scheme for unfitted estimators */\n",
       "  --sklearn-color-unfitted-level-0: #fff5e6;\n",
       "  --sklearn-color-unfitted-level-1: #f6e4d2;\n",
       "  --sklearn-color-unfitted-level-2: #ffe0b3;\n",
       "  --sklearn-color-unfitted-level-3: chocolate;\n",
       "  /* Definition of color scheme for fitted estimators */\n",
       "  --sklearn-color-fitted-level-0: #f0f8ff;\n",
       "  --sklearn-color-fitted-level-1: #d4ebff;\n",
       "  --sklearn-color-fitted-level-2: #b3dbfd;\n",
       "  --sklearn-color-fitted-level-3: cornflowerblue;\n",
       "\n",
       "  /* Specific color for light theme */\n",
       "  --sklearn-color-text-on-default-background: var(--sg-text-color, var(--theme-code-foreground, var(--jp-content-font-color1, black)));\n",
       "  --sklearn-color-background: var(--sg-background-color, var(--theme-background, var(--jp-layout-color0, white)));\n",
       "  --sklearn-color-border-box: var(--sg-text-color, var(--theme-code-foreground, var(--jp-content-font-color1, black)));\n",
       "  --sklearn-color-icon: #696969;\n",
       "\n",
       "  @media (prefers-color-scheme: dark) {\n",
       "    /* Redefinition of color scheme for dark theme */\n",
       "    --sklearn-color-text-on-default-background: var(--sg-text-color, var(--theme-code-foreground, var(--jp-content-font-color1, white)));\n",
       "    --sklearn-color-background: var(--sg-background-color, var(--theme-background, var(--jp-layout-color0, #111)));\n",
       "    --sklearn-color-border-box: var(--sg-text-color, var(--theme-code-foreground, var(--jp-content-font-color1, white)));\n",
       "    --sklearn-color-icon: #878787;\n",
       "  }\n",
       "}\n",
       "\n",
       "#sk-container-id-1 {\n",
       "  color: var(--sklearn-color-text);\n",
       "}\n",
       "\n",
       "#sk-container-id-1 pre {\n",
       "  padding: 0;\n",
       "}\n",
       "\n",
       "#sk-container-id-1 input.sk-hidden--visually {\n",
       "  border: 0;\n",
       "  clip: rect(1px 1px 1px 1px);\n",
       "  clip: rect(1px, 1px, 1px, 1px);\n",
       "  height: 1px;\n",
       "  margin: -1px;\n",
       "  overflow: hidden;\n",
       "  padding: 0;\n",
       "  position: absolute;\n",
       "  width: 1px;\n",
       "}\n",
       "\n",
       "#sk-container-id-1 div.sk-dashed-wrapped {\n",
       "  border: 1px dashed var(--sklearn-color-line);\n",
       "  margin: 0 0.4em 0.5em 0.4em;\n",
       "  box-sizing: border-box;\n",
       "  padding-bottom: 0.4em;\n",
       "  background-color: var(--sklearn-color-background);\n",
       "}\n",
       "\n",
       "#sk-container-id-1 div.sk-container {\n",
       "  /* jupyter's `normalize.less` sets `[hidden] { display: none; }`\n",
       "     but bootstrap.min.css set `[hidden] { display: none !important; }`\n",
       "     so we also need the `!important` here to be able to override the\n",
       "     default hidden behavior on the sphinx rendered scikit-learn.org.\n",
       "     See: https://github.com/scikit-learn/scikit-learn/issues/21755 */\n",
       "  display: inline-block !important;\n",
       "  position: relative;\n",
       "}\n",
       "\n",
       "#sk-container-id-1 div.sk-text-repr-fallback {\n",
       "  display: none;\n",
       "}\n",
       "\n",
       "div.sk-parallel-item,\n",
       "div.sk-serial,\n",
       "div.sk-item {\n",
       "  /* draw centered vertical line to link estimators */\n",
       "  background-image: linear-gradient(var(--sklearn-color-text-on-default-background), var(--sklearn-color-text-on-default-background));\n",
       "  background-size: 2px 100%;\n",
       "  background-repeat: no-repeat;\n",
       "  background-position: center center;\n",
       "}\n",
       "\n",
       "/* Parallel-specific style estimator block */\n",
       "\n",
       "#sk-container-id-1 div.sk-parallel-item::after {\n",
       "  content: \"\";\n",
       "  width: 100%;\n",
       "  border-bottom: 2px solid var(--sklearn-color-text-on-default-background);\n",
       "  flex-grow: 1;\n",
       "}\n",
       "\n",
       "#sk-container-id-1 div.sk-parallel {\n",
       "  display: flex;\n",
       "  align-items: stretch;\n",
       "  justify-content: center;\n",
       "  background-color: var(--sklearn-color-background);\n",
       "  position: relative;\n",
       "}\n",
       "\n",
       "#sk-container-id-1 div.sk-parallel-item {\n",
       "  display: flex;\n",
       "  flex-direction: column;\n",
       "}\n",
       "\n",
       "#sk-container-id-1 div.sk-parallel-item:first-child::after {\n",
       "  align-self: flex-end;\n",
       "  width: 50%;\n",
       "}\n",
       "\n",
       "#sk-container-id-1 div.sk-parallel-item:last-child::after {\n",
       "  align-self: flex-start;\n",
       "  width: 50%;\n",
       "}\n",
       "\n",
       "#sk-container-id-1 div.sk-parallel-item:only-child::after {\n",
       "  width: 0;\n",
       "}\n",
       "\n",
       "/* Serial-specific style estimator block */\n",
       "\n",
       "#sk-container-id-1 div.sk-serial {\n",
       "  display: flex;\n",
       "  flex-direction: column;\n",
       "  align-items: center;\n",
       "  background-color: var(--sklearn-color-background);\n",
       "  padding-right: 1em;\n",
       "  padding-left: 1em;\n",
       "}\n",
       "\n",
       "\n",
       "/* Toggleable style: style used for estimator/Pipeline/ColumnTransformer box that is\n",
       "clickable and can be expanded/collapsed.\n",
       "- Pipeline and ColumnTransformer use this feature and define the default style\n",
       "- Estimators will overwrite some part of the style using the `sk-estimator` class\n",
       "*/\n",
       "\n",
       "/* Pipeline and ColumnTransformer style (default) */\n",
       "\n",
       "#sk-container-id-1 div.sk-toggleable {\n",
       "  /* Default theme specific background. It is overwritten whether we have a\n",
       "  specific estimator or a Pipeline/ColumnTransformer */\n",
       "  background-color: var(--sklearn-color-background);\n",
       "}\n",
       "\n",
       "/* Toggleable label */\n",
       "#sk-container-id-1 label.sk-toggleable__label {\n",
       "  cursor: pointer;\n",
       "  display: flex;\n",
       "  width: 100%;\n",
       "  margin-bottom: 0;\n",
       "  padding: 0.5em;\n",
       "  box-sizing: border-box;\n",
       "  text-align: center;\n",
       "  align-items: start;\n",
       "  justify-content: space-between;\n",
       "  gap: 0.5em;\n",
       "}\n",
       "\n",
       "#sk-container-id-1 label.sk-toggleable__label .caption {\n",
       "  font-size: 0.6rem;\n",
       "  font-weight: lighter;\n",
       "  color: var(--sklearn-color-text-muted);\n",
       "}\n",
       "\n",
       "#sk-container-id-1 label.sk-toggleable__label-arrow:before {\n",
       "  /* Arrow on the left of the label */\n",
       "  content: \"▸\";\n",
       "  float: left;\n",
       "  margin-right: 0.25em;\n",
       "  color: var(--sklearn-color-icon);\n",
       "}\n",
       "\n",
       "#sk-container-id-1 label.sk-toggleable__label-arrow:hover:before {\n",
       "  color: var(--sklearn-color-text);\n",
       "}\n",
       "\n",
       "/* Toggleable content - dropdown */\n",
       "\n",
       "#sk-container-id-1 div.sk-toggleable__content {\n",
       "  max-height: 0;\n",
       "  max-width: 0;\n",
       "  overflow: hidden;\n",
       "  text-align: left;\n",
       "  /* unfitted */\n",
       "  background-color: var(--sklearn-color-unfitted-level-0);\n",
       "}\n",
       "\n",
       "#sk-container-id-1 div.sk-toggleable__content.fitted {\n",
       "  /* fitted */\n",
       "  background-color: var(--sklearn-color-fitted-level-0);\n",
       "}\n",
       "\n",
       "#sk-container-id-1 div.sk-toggleable__content pre {\n",
       "  margin: 0.2em;\n",
       "  border-radius: 0.25em;\n",
       "  color: var(--sklearn-color-text);\n",
       "  /* unfitted */\n",
       "  background-color: var(--sklearn-color-unfitted-level-0);\n",
       "}\n",
       "\n",
       "#sk-container-id-1 div.sk-toggleable__content.fitted pre {\n",
       "  /* unfitted */\n",
       "  background-color: var(--sklearn-color-fitted-level-0);\n",
       "}\n",
       "\n",
       "#sk-container-id-1 input.sk-toggleable__control:checked~div.sk-toggleable__content {\n",
       "  /* Expand drop-down */\n",
       "  max-height: 200px;\n",
       "  max-width: 100%;\n",
       "  overflow: auto;\n",
       "}\n",
       "\n",
       "#sk-container-id-1 input.sk-toggleable__control:checked~label.sk-toggleable__label-arrow:before {\n",
       "  content: \"▾\";\n",
       "}\n",
       "\n",
       "/* Pipeline/ColumnTransformer-specific style */\n",
       "\n",
       "#sk-container-id-1 div.sk-label input.sk-toggleable__control:checked~label.sk-toggleable__label {\n",
       "  color: var(--sklearn-color-text);\n",
       "  background-color: var(--sklearn-color-unfitted-level-2);\n",
       "}\n",
       "\n",
       "#sk-container-id-1 div.sk-label.fitted input.sk-toggleable__control:checked~label.sk-toggleable__label {\n",
       "  background-color: var(--sklearn-color-fitted-level-2);\n",
       "}\n",
       "\n",
       "/* Estimator-specific style */\n",
       "\n",
       "/* Colorize estimator box */\n",
       "#sk-container-id-1 div.sk-estimator input.sk-toggleable__control:checked~label.sk-toggleable__label {\n",
       "  /* unfitted */\n",
       "  background-color: var(--sklearn-color-unfitted-level-2);\n",
       "}\n",
       "\n",
       "#sk-container-id-1 div.sk-estimator.fitted input.sk-toggleable__control:checked~label.sk-toggleable__label {\n",
       "  /* fitted */\n",
       "  background-color: var(--sklearn-color-fitted-level-2);\n",
       "}\n",
       "\n",
       "#sk-container-id-1 div.sk-label label.sk-toggleable__label,\n",
       "#sk-container-id-1 div.sk-label label {\n",
       "  /* The background is the default theme color */\n",
       "  color: var(--sklearn-color-text-on-default-background);\n",
       "}\n",
       "\n",
       "/* On hover, darken the color of the background */\n",
       "#sk-container-id-1 div.sk-label:hover label.sk-toggleable__label {\n",
       "  color: var(--sklearn-color-text);\n",
       "  background-color: var(--sklearn-color-unfitted-level-2);\n",
       "}\n",
       "\n",
       "/* Label box, darken color on hover, fitted */\n",
       "#sk-container-id-1 div.sk-label.fitted:hover label.sk-toggleable__label.fitted {\n",
       "  color: var(--sklearn-color-text);\n",
       "  background-color: var(--sklearn-color-fitted-level-2);\n",
       "}\n",
       "\n",
       "/* Estimator label */\n",
       "\n",
       "#sk-container-id-1 div.sk-label label {\n",
       "  font-family: monospace;\n",
       "  font-weight: bold;\n",
       "  display: inline-block;\n",
       "  line-height: 1.2em;\n",
       "}\n",
       "\n",
       "#sk-container-id-1 div.sk-label-container {\n",
       "  text-align: center;\n",
       "}\n",
       "\n",
       "/* Estimator-specific */\n",
       "#sk-container-id-1 div.sk-estimator {\n",
       "  font-family: monospace;\n",
       "  border: 1px dotted var(--sklearn-color-border-box);\n",
       "  border-radius: 0.25em;\n",
       "  box-sizing: border-box;\n",
       "  margin-bottom: 0.5em;\n",
       "  /* unfitted */\n",
       "  background-color: var(--sklearn-color-unfitted-level-0);\n",
       "}\n",
       "\n",
       "#sk-container-id-1 div.sk-estimator.fitted {\n",
       "  /* fitted */\n",
       "  background-color: var(--sklearn-color-fitted-level-0);\n",
       "}\n",
       "\n",
       "/* on hover */\n",
       "#sk-container-id-1 div.sk-estimator:hover {\n",
       "  /* unfitted */\n",
       "  background-color: var(--sklearn-color-unfitted-level-2);\n",
       "}\n",
       "\n",
       "#sk-container-id-1 div.sk-estimator.fitted:hover {\n",
       "  /* fitted */\n",
       "  background-color: var(--sklearn-color-fitted-level-2);\n",
       "}\n",
       "\n",
       "/* Specification for estimator info (e.g. \"i\" and \"?\") */\n",
       "\n",
       "/* Common style for \"i\" and \"?\" */\n",
       "\n",
       ".sk-estimator-doc-link,\n",
       "a:link.sk-estimator-doc-link,\n",
       "a:visited.sk-estimator-doc-link {\n",
       "  float: right;\n",
       "  font-size: smaller;\n",
       "  line-height: 1em;\n",
       "  font-family: monospace;\n",
       "  background-color: var(--sklearn-color-background);\n",
       "  border-radius: 1em;\n",
       "  height: 1em;\n",
       "  width: 1em;\n",
       "  text-decoration: none !important;\n",
       "  margin-left: 0.5em;\n",
       "  text-align: center;\n",
       "  /* unfitted */\n",
       "  border: var(--sklearn-color-unfitted-level-1) 1pt solid;\n",
       "  color: var(--sklearn-color-unfitted-level-1);\n",
       "}\n",
       "\n",
       ".sk-estimator-doc-link.fitted,\n",
       "a:link.sk-estimator-doc-link.fitted,\n",
       "a:visited.sk-estimator-doc-link.fitted {\n",
       "  /* fitted */\n",
       "  border: var(--sklearn-color-fitted-level-1) 1pt solid;\n",
       "  color: var(--sklearn-color-fitted-level-1);\n",
       "}\n",
       "\n",
       "/* On hover */\n",
       "div.sk-estimator:hover .sk-estimator-doc-link:hover,\n",
       ".sk-estimator-doc-link:hover,\n",
       "div.sk-label-container:hover .sk-estimator-doc-link:hover,\n",
       ".sk-estimator-doc-link:hover {\n",
       "  /* unfitted */\n",
       "  background-color: var(--sklearn-color-unfitted-level-3);\n",
       "  color: var(--sklearn-color-background);\n",
       "  text-decoration: none;\n",
       "}\n",
       "\n",
       "div.sk-estimator.fitted:hover .sk-estimator-doc-link.fitted:hover,\n",
       ".sk-estimator-doc-link.fitted:hover,\n",
       "div.sk-label-container:hover .sk-estimator-doc-link.fitted:hover,\n",
       ".sk-estimator-doc-link.fitted:hover {\n",
       "  /* fitted */\n",
       "  background-color: var(--sklearn-color-fitted-level-3);\n",
       "  color: var(--sklearn-color-background);\n",
       "  text-decoration: none;\n",
       "}\n",
       "\n",
       "/* Span, style for the box shown on hovering the info icon */\n",
       ".sk-estimator-doc-link span {\n",
       "  display: none;\n",
       "  z-index: 9999;\n",
       "  position: relative;\n",
       "  font-weight: normal;\n",
       "  right: .2ex;\n",
       "  padding: .5ex;\n",
       "  margin: .5ex;\n",
       "  width: min-content;\n",
       "  min-width: 20ex;\n",
       "  max-width: 50ex;\n",
       "  color: var(--sklearn-color-text);\n",
       "  box-shadow: 2pt 2pt 4pt #999;\n",
       "  /* unfitted */\n",
       "  background: var(--sklearn-color-unfitted-level-0);\n",
       "  border: .5pt solid var(--sklearn-color-unfitted-level-3);\n",
       "}\n",
       "\n",
       ".sk-estimator-doc-link.fitted span {\n",
       "  /* fitted */\n",
       "  background: var(--sklearn-color-fitted-level-0);\n",
       "  border: var(--sklearn-color-fitted-level-3);\n",
       "}\n",
       "\n",
       ".sk-estimator-doc-link:hover span {\n",
       "  display: block;\n",
       "}\n",
       "\n",
       "/* \"?\"-specific style due to the `<a>` HTML tag */\n",
       "\n",
       "#sk-container-id-1 a.estimator_doc_link {\n",
       "  float: right;\n",
       "  font-size: 1rem;\n",
       "  line-height: 1em;\n",
       "  font-family: monospace;\n",
       "  background-color: var(--sklearn-color-background);\n",
       "  border-radius: 1rem;\n",
       "  height: 1rem;\n",
       "  width: 1rem;\n",
       "  text-decoration: none;\n",
       "  /* unfitted */\n",
       "  color: var(--sklearn-color-unfitted-level-1);\n",
       "  border: var(--sklearn-color-unfitted-level-1) 1pt solid;\n",
       "}\n",
       "\n",
       "#sk-container-id-1 a.estimator_doc_link.fitted {\n",
       "  /* fitted */\n",
       "  border: var(--sklearn-color-fitted-level-1) 1pt solid;\n",
       "  color: var(--sklearn-color-fitted-level-1);\n",
       "}\n",
       "\n",
       "/* On hover */\n",
       "#sk-container-id-1 a.estimator_doc_link:hover {\n",
       "  /* unfitted */\n",
       "  background-color: var(--sklearn-color-unfitted-level-3);\n",
       "  color: var(--sklearn-color-background);\n",
       "  text-decoration: none;\n",
       "}\n",
       "\n",
       "#sk-container-id-1 a.estimator_doc_link.fitted:hover {\n",
       "  /* fitted */\n",
       "  background-color: var(--sklearn-color-fitted-level-3);\n",
       "}\n",
       "</style><div id=\"sk-container-id-1\" class=\"sk-top-container\"><div class=\"sk-text-repr-fallback\"><pre>StandardScaler()</pre><b>In a Jupyter environment, please rerun this cell to show the HTML representation or trust the notebook. <br />On GitHub, the HTML representation is unable to render, please try loading this page with nbviewer.org.</b></div><div class=\"sk-container\" hidden><div class=\"sk-item\"><div class=\"sk-estimator fitted sk-toggleable\"><input class=\"sk-toggleable__control sk-hidden--visually\" id=\"sk-estimator-id-1\" type=\"checkbox\" checked><label for=\"sk-estimator-id-1\" class=\"sk-toggleable__label fitted sk-toggleable__label-arrow\"><div><div>StandardScaler</div></div><div><a class=\"sk-estimator-doc-link fitted\" rel=\"noreferrer\" target=\"_blank\" href=\"https://scikit-learn.org/1.6/modules/generated/sklearn.preprocessing.StandardScaler.html\">?<span>Documentation for StandardScaler</span></a><span class=\"sk-estimator-doc-link fitted\">i<span>Fitted</span></span></div></label><div class=\"sk-toggleable__content fitted\"><pre>StandardScaler()</pre></div> </div></div></div></div>"
      ],
      "text/plain": [
       "StandardScaler()"
      ]
     },
     "execution_count": 17,
     "metadata": {},
     "output_type": "execute_result"
    }
   ],
   "source": [
    "# scaler_prices.fit(train_prices)\n",
    "scaler_returns.fit(train_returns)"
   ]
  },
  {
   "cell_type": "code",
   "execution_count": 18,
   "metadata": {
    "executionInfo": {
     "elapsed": 5,
     "status": "ok",
     "timestamp": 1749826572442,
     "user": {
      "displayName": "Vahagn Dovlatyan Univ",
      "userId": "11218036502332640401"
     },
     "user_tz": -240
    },
    "id": "75vSPXk3-eyQ"
   },
   "outputs": [],
   "source": [
    "train_returns = scaler_returns.transform(train_returns)\n",
    "train_prices = np.array(train_prices)\n",
    "# train_prices = scaler_prices.transform(train_prices)\n",
    "\n",
    "val_returns = scaler_returns.transform(val_returns)\n",
    "val_prices = np.array(val_prices)\n",
    "# val_prices = scaler_prices.transform(val_prices)\n",
    "\n",
    "# test_returns = scaler_returns.transform(test_returns)\n",
    "# test_prices = scaler_prices.transform(test_prices)"
   ]
  },
  {
   "cell_type": "code",
   "execution_count": 19,
   "metadata": {
    "colab": {
     "base_uri": "https://localhost:8080/",
     "height": 350
    },
    "executionInfo": {
     "elapsed": 632,
     "status": "ok",
     "timestamp": 1749826573071,
     "user": {
      "displayName": "Vahagn Dovlatyan Univ",
      "userId": "11218036502332640401"
     },
     "user_tz": -240
    },
    "id": "JDfokfEaCwt_",
    "outputId": "2958b14a-aa73-4577-d2c2-0bb7a76dddd4"
   },
   "outputs": [
    {
     "data": {
      "application/vnd.google.colaboratory.intrinsic+json": {
       "type": "dataframe"
      },
      "text/html": [
       "\n",
       "  <div id=\"df-60edf82f-7e1c-4342-a0d6-d2729491e45f\" class=\"colab-df-container\">\n",
       "    <div>\n",
       "<style scoped>\n",
       "    .dataframe tbody tr th:only-of-type {\n",
       "        vertical-align: middle;\n",
       "    }\n",
       "\n",
       "    .dataframe tbody tr th {\n",
       "        vertical-align: top;\n",
       "    }\n",
       "\n",
       "    .dataframe thead th {\n",
       "        text-align: right;\n",
       "    }\n",
       "</style>\n",
       "<table border=\"1\" class=\"dataframe\">\n",
       "  <thead>\n",
       "    <tr style=\"text-align: right;\">\n",
       "      <th></th>\n",
       "      <th>0</th>\n",
       "      <th>1</th>\n",
       "      <th>2</th>\n",
       "      <th>3</th>\n",
       "      <th>4</th>\n",
       "      <th>5</th>\n",
       "      <th>6</th>\n",
       "      <th>7</th>\n",
       "      <th>8</th>\n",
       "      <th>9</th>\n",
       "      <th>...</th>\n",
       "      <th>368</th>\n",
       "      <th>369</th>\n",
       "      <th>370</th>\n",
       "      <th>371</th>\n",
       "      <th>372</th>\n",
       "      <th>373</th>\n",
       "      <th>374</th>\n",
       "      <th>375</th>\n",
       "      <th>376</th>\n",
       "      <th>377</th>\n",
       "    </tr>\n",
       "  </thead>\n",
       "  <tbody>\n",
       "    <tr>\n",
       "      <th>count</th>\n",
       "      <td>3018.000000</td>\n",
       "      <td>3018.000000</td>\n",
       "      <td>3018.000000</td>\n",
       "      <td>3018.000000</td>\n",
       "      <td>3018.000000</td>\n",
       "      <td>3018.000000</td>\n",
       "      <td>3018.000000</td>\n",
       "      <td>3018.000000</td>\n",
       "      <td>3018.000000</td>\n",
       "      <td>3018.000000</td>\n",
       "      <td>...</td>\n",
       "      <td>3018.000000</td>\n",
       "      <td>3018.000000</td>\n",
       "      <td>3018.000000</td>\n",
       "      <td>3018.000000</td>\n",
       "      <td>3018.000000</td>\n",
       "      <td>3018.000000</td>\n",
       "      <td>3018.000000</td>\n",
       "      <td>3018.000000</td>\n",
       "      <td>3018.000000</td>\n",
       "      <td>3018.000000</td>\n",
       "    </tr>\n",
       "    <tr>\n",
       "      <th>mean</th>\n",
       "      <td>17.853152</td>\n",
       "      <td>44.273062</td>\n",
       "      <td>45.280113</td>\n",
       "      <td>71.674671</td>\n",
       "      <td>31.069453</td>\n",
       "      <td>48.053716</td>\n",
       "      <td>20.301708</td>\n",
       "      <td>85.801565</td>\n",
       "      <td>35.661436</td>\n",
       "      <td>143.737658</td>\n",
       "      <td>...</td>\n",
       "      <td>23.608171</td>\n",
       "      <td>39.738244</td>\n",
       "      <td>17.887139</td>\n",
       "      <td>91.048791</td>\n",
       "      <td>29.138210</td>\n",
       "      <td>52.553631</td>\n",
       "      <td>19.029002</td>\n",
       "      <td>16.262475</td>\n",
       "      <td>187.725771</td>\n",
       "      <td>18.672319</td>\n",
       "    </tr>\n",
       "    <tr>\n",
       "      <th>std</th>\n",
       "      <td>4.687797</td>\n",
       "      <td>14.462846</td>\n",
       "      <td>25.220555</td>\n",
       "      <td>44.675041</td>\n",
       "      <td>9.099248</td>\n",
       "      <td>12.659109</td>\n",
       "      <td>6.501358</td>\n",
       "      <td>47.756548</td>\n",
       "      <td>24.825034</td>\n",
       "      <td>105.022781</td>\n",
       "      <td>...</td>\n",
       "      <td>10.604613</td>\n",
       "      <td>27.216731</td>\n",
       "      <td>7.946666</td>\n",
       "      <td>39.108638</td>\n",
       "      <td>13.478912</td>\n",
       "      <td>32.307153</td>\n",
       "      <td>9.520372</td>\n",
       "      <td>13.941268</td>\n",
       "      <td>88.150481</td>\n",
       "      <td>4.738354</td>\n",
       "    </tr>\n",
       "    <tr>\n",
       "      <th>min</th>\n",
       "      <td>9.524200</td>\n",
       "      <td>13.515900</td>\n",
       "      <td>9.481100</td>\n",
       "      <td>12.123100</td>\n",
       "      <td>8.119500</td>\n",
       "      <td>15.233200</td>\n",
       "      <td>6.118600</td>\n",
       "      <td>22.244300</td>\n",
       "      <td>10.178600</td>\n",
       "      <td>27.535100</td>\n",
       "      <td>...</td>\n",
       "      <td>3.554700</td>\n",
       "      <td>5.462500</td>\n",
       "      <td>6.233600</td>\n",
       "      <td>30.750000</td>\n",
       "      <td>6.574900</td>\n",
       "      <td>13.072600</td>\n",
       "      <td>2.966500</td>\n",
       "      <td>1.592300</td>\n",
       "      <td>62.190300</td>\n",
       "      <td>11.450900</td>\n",
       "    </tr>\n",
       "    <tr>\n",
       "      <th>25%</th>\n",
       "      <td>14.233025</td>\n",
       "      <td>32.213725</td>\n",
       "      <td>28.947275</td>\n",
       "      <td>28.312750</td>\n",
       "      <td>24.681225</td>\n",
       "      <td>41.457475</td>\n",
       "      <td>14.858425</td>\n",
       "      <td>55.160225</td>\n",
       "      <td>15.458200</td>\n",
       "      <td>66.120775</td>\n",
       "      <td>...</td>\n",
       "      <td>15.609050</td>\n",
       "      <td>13.813125</td>\n",
       "      <td>12.541800</td>\n",
       "      <td>60.300000</td>\n",
       "      <td>16.688425</td>\n",
       "      <td>33.867900</td>\n",
       "      <td>11.773850</td>\n",
       "      <td>4.845500</td>\n",
       "      <td>117.151600</td>\n",
       "      <td>14.638150</td>\n",
       "    </tr>\n",
       "    <tr>\n",
       "      <th>50%</th>\n",
       "      <td>17.055500</td>\n",
       "      <td>42.536100</td>\n",
       "      <td>41.959500</td>\n",
       "      <td>73.212050</td>\n",
       "      <td>30.875000</td>\n",
       "      <td>47.804900</td>\n",
       "      <td>20.004900</td>\n",
       "      <td>63.708950</td>\n",
       "      <td>19.410400</td>\n",
       "      <td>87.718300</td>\n",
       "      <td>...</td>\n",
       "      <td>22.758900</td>\n",
       "      <td>34.678750</td>\n",
       "      <td>14.786900</td>\n",
       "      <td>82.435000</td>\n",
       "      <td>29.823050</td>\n",
       "      <td>41.204900</td>\n",
       "      <td>16.363900</td>\n",
       "      <td>10.455450</td>\n",
       "      <td>146.347100</td>\n",
       "      <td>17.619050</td>\n",
       "    </tr>\n",
       "    <tr>\n",
       "      <th>75%</th>\n",
       "      <td>21.015450</td>\n",
       "      <td>57.452525</td>\n",
       "      <td>57.410875</td>\n",
       "      <td>103.519625</td>\n",
       "      <td>37.776125</td>\n",
       "      <td>53.985700</td>\n",
       "      <td>25.459725</td>\n",
       "      <td>115.092300</td>\n",
       "      <td>58.686225</td>\n",
       "      <td>182.612775</td>\n",
       "      <td>...</td>\n",
       "      <td>28.915550</td>\n",
       "      <td>61.252500</td>\n",
       "      <td>21.164300</td>\n",
       "      <td>115.485000</td>\n",
       "      <td>37.793100</td>\n",
       "      <td>63.355700</td>\n",
       "      <td>25.275175</td>\n",
       "      <td>23.917475</td>\n",
       "      <td>261.303025</td>\n",
       "      <td>21.821625</td>\n",
       "    </tr>\n",
       "    <tr>\n",
       "      <th>max</th>\n",
       "      <td>32.789000</td>\n",
       "      <td>87.639400</td>\n",
       "      <td>134.566800</td>\n",
       "      <td>178.991600</td>\n",
       "      <td>56.756500</td>\n",
       "      <td>92.032600</td>\n",
       "      <td>36.284600</td>\n",
       "      <td>283.896600</td>\n",
       "      <td>92.906800</td>\n",
       "      <td>443.745300</td>\n",
       "      <td>...</td>\n",
       "      <td>51.642900</td>\n",
       "      <td>108.800000</td>\n",
       "      <td>47.746100</td>\n",
       "      <td>200.270000</td>\n",
       "      <td>58.918100</td>\n",
       "      <td>199.743600</td>\n",
       "      <td>41.737000</td>\n",
       "      <td>53.775500</td>\n",
       "      <td>449.965500</td>\n",
       "      <td>29.977300</td>\n",
       "    </tr>\n",
       "  </tbody>\n",
       "</table>\n",
       "<p>8 rows × 378 columns</p>\n",
       "</div>\n",
       "    <div class=\"colab-df-buttons\">\n",
       "\n",
       "  <div class=\"colab-df-container\">\n",
       "    <button class=\"colab-df-convert\" onclick=\"convertToInteractive('df-60edf82f-7e1c-4342-a0d6-d2729491e45f')\"\n",
       "            title=\"Convert this dataframe to an interactive table.\"\n",
       "            style=\"display:none;\">\n",
       "\n",
       "  <svg xmlns=\"http://www.w3.org/2000/svg\" height=\"24px\" viewBox=\"0 -960 960 960\">\n",
       "    <path d=\"M120-120v-720h720v720H120Zm60-500h600v-160H180v160Zm220 220h160v-160H400v160Zm0 220h160v-160H400v160ZM180-400h160v-160H180v160Zm440 0h160v-160H620v160ZM180-180h160v-160H180v160Zm440 0h160v-160H620v160Z\"/>\n",
       "  </svg>\n",
       "    </button>\n",
       "\n",
       "  <style>\n",
       "    .colab-df-container {\n",
       "      display:flex;\n",
       "      gap: 12px;\n",
       "    }\n",
       "\n",
       "    .colab-df-convert {\n",
       "      background-color: #E8F0FE;\n",
       "      border: none;\n",
       "      border-radius: 50%;\n",
       "      cursor: pointer;\n",
       "      display: none;\n",
       "      fill: #1967D2;\n",
       "      height: 32px;\n",
       "      padding: 0 0 0 0;\n",
       "      width: 32px;\n",
       "    }\n",
       "\n",
       "    .colab-df-convert:hover {\n",
       "      background-color: #E2EBFA;\n",
       "      box-shadow: 0px 1px 2px rgba(60, 64, 67, 0.3), 0px 1px 3px 1px rgba(60, 64, 67, 0.15);\n",
       "      fill: #174EA6;\n",
       "    }\n",
       "\n",
       "    .colab-df-buttons div {\n",
       "      margin-bottom: 4px;\n",
       "    }\n",
       "\n",
       "    [theme=dark] .colab-df-convert {\n",
       "      background-color: #3B4455;\n",
       "      fill: #D2E3FC;\n",
       "    }\n",
       "\n",
       "    [theme=dark] .colab-df-convert:hover {\n",
       "      background-color: #434B5C;\n",
       "      box-shadow: 0px 1px 3px 1px rgba(0, 0, 0, 0.15);\n",
       "      filter: drop-shadow(0px 1px 2px rgba(0, 0, 0, 0.3));\n",
       "      fill: #FFFFFF;\n",
       "    }\n",
       "  </style>\n",
       "\n",
       "    <script>\n",
       "      const buttonEl =\n",
       "        document.querySelector('#df-60edf82f-7e1c-4342-a0d6-d2729491e45f button.colab-df-convert');\n",
       "      buttonEl.style.display =\n",
       "        google.colab.kernel.accessAllowed ? 'block' : 'none';\n",
       "\n",
       "      async function convertToInteractive(key) {\n",
       "        const element = document.querySelector('#df-60edf82f-7e1c-4342-a0d6-d2729491e45f');\n",
       "        const dataTable =\n",
       "          await google.colab.kernel.invokeFunction('convertToInteractive',\n",
       "                                                    [key], {});\n",
       "        if (!dataTable) return;\n",
       "\n",
       "        const docLinkHtml = 'Like what you see? Visit the ' +\n",
       "          '<a target=\"_blank\" href=https://colab.research.google.com/notebooks/data_table.ipynb>data table notebook</a>'\n",
       "          + ' to learn more about interactive tables.';\n",
       "        element.innerHTML = '';\n",
       "        dataTable['output_type'] = 'display_data';\n",
       "        await google.colab.output.renderOutput(dataTable, element);\n",
       "        const docLink = document.createElement('div');\n",
       "        docLink.innerHTML = docLinkHtml;\n",
       "        element.appendChild(docLink);\n",
       "      }\n",
       "    </script>\n",
       "  </div>\n",
       "\n",
       "\n",
       "    <div id=\"df-549d6822-9c97-4e68-898d-8592dd1fcef6\">\n",
       "      <button class=\"colab-df-quickchart\" onclick=\"quickchart('df-549d6822-9c97-4e68-898d-8592dd1fcef6')\"\n",
       "                title=\"Suggest charts\"\n",
       "                style=\"display:none;\">\n",
       "\n",
       "<svg xmlns=\"http://www.w3.org/2000/svg\" height=\"24px\"viewBox=\"0 0 24 24\"\n",
       "     width=\"24px\">\n",
       "    <g>\n",
       "        <path d=\"M19 3H5c-1.1 0-2 .9-2 2v14c0 1.1.9 2 2 2h14c1.1 0 2-.9 2-2V5c0-1.1-.9-2-2-2zM9 17H7v-7h2v7zm4 0h-2V7h2v10zm4 0h-2v-4h2v4z\"/>\n",
       "    </g>\n",
       "</svg>\n",
       "      </button>\n",
       "\n",
       "<style>\n",
       "  .colab-df-quickchart {\n",
       "      --bg-color: #E8F0FE;\n",
       "      --fill-color: #1967D2;\n",
       "      --hover-bg-color: #E2EBFA;\n",
       "      --hover-fill-color: #174EA6;\n",
       "      --disabled-fill-color: #AAA;\n",
       "      --disabled-bg-color: #DDD;\n",
       "  }\n",
       "\n",
       "  [theme=dark] .colab-df-quickchart {\n",
       "      --bg-color: #3B4455;\n",
       "      --fill-color: #D2E3FC;\n",
       "      --hover-bg-color: #434B5C;\n",
       "      --hover-fill-color: #FFFFFF;\n",
       "      --disabled-bg-color: #3B4455;\n",
       "      --disabled-fill-color: #666;\n",
       "  }\n",
       "\n",
       "  .colab-df-quickchart {\n",
       "    background-color: var(--bg-color);\n",
       "    border: none;\n",
       "    border-radius: 50%;\n",
       "    cursor: pointer;\n",
       "    display: none;\n",
       "    fill: var(--fill-color);\n",
       "    height: 32px;\n",
       "    padding: 0;\n",
       "    width: 32px;\n",
       "  }\n",
       "\n",
       "  .colab-df-quickchart:hover {\n",
       "    background-color: var(--hover-bg-color);\n",
       "    box-shadow: 0 1px 2px rgba(60, 64, 67, 0.3), 0 1px 3px 1px rgba(60, 64, 67, 0.15);\n",
       "    fill: var(--button-hover-fill-color);\n",
       "  }\n",
       "\n",
       "  .colab-df-quickchart-complete:disabled,\n",
       "  .colab-df-quickchart-complete:disabled:hover {\n",
       "    background-color: var(--disabled-bg-color);\n",
       "    fill: var(--disabled-fill-color);\n",
       "    box-shadow: none;\n",
       "  }\n",
       "\n",
       "  .colab-df-spinner {\n",
       "    border: 2px solid var(--fill-color);\n",
       "    border-color: transparent;\n",
       "    border-bottom-color: var(--fill-color);\n",
       "    animation:\n",
       "      spin 1s steps(1) infinite;\n",
       "  }\n",
       "\n",
       "  @keyframes spin {\n",
       "    0% {\n",
       "      border-color: transparent;\n",
       "      border-bottom-color: var(--fill-color);\n",
       "      border-left-color: var(--fill-color);\n",
       "    }\n",
       "    20% {\n",
       "      border-color: transparent;\n",
       "      border-left-color: var(--fill-color);\n",
       "      border-top-color: var(--fill-color);\n",
       "    }\n",
       "    30% {\n",
       "      border-color: transparent;\n",
       "      border-left-color: var(--fill-color);\n",
       "      border-top-color: var(--fill-color);\n",
       "      border-right-color: var(--fill-color);\n",
       "    }\n",
       "    40% {\n",
       "      border-color: transparent;\n",
       "      border-right-color: var(--fill-color);\n",
       "      border-top-color: var(--fill-color);\n",
       "    }\n",
       "    60% {\n",
       "      border-color: transparent;\n",
       "      border-right-color: var(--fill-color);\n",
       "    }\n",
       "    80% {\n",
       "      border-color: transparent;\n",
       "      border-right-color: var(--fill-color);\n",
       "      border-bottom-color: var(--fill-color);\n",
       "    }\n",
       "    90% {\n",
       "      border-color: transparent;\n",
       "      border-bottom-color: var(--fill-color);\n",
       "    }\n",
       "  }\n",
       "</style>\n",
       "\n",
       "      <script>\n",
       "        async function quickchart(key) {\n",
       "          const quickchartButtonEl =\n",
       "            document.querySelector('#' + key + ' button');\n",
       "          quickchartButtonEl.disabled = true;  // To prevent multiple clicks.\n",
       "          quickchartButtonEl.classList.add('colab-df-spinner');\n",
       "          try {\n",
       "            const charts = await google.colab.kernel.invokeFunction(\n",
       "                'suggestCharts', [key], {});\n",
       "          } catch (error) {\n",
       "            console.error('Error during call to suggestCharts:', error);\n",
       "          }\n",
       "          quickchartButtonEl.classList.remove('colab-df-spinner');\n",
       "          quickchartButtonEl.classList.add('colab-df-quickchart-complete');\n",
       "        }\n",
       "        (() => {\n",
       "          let quickchartButtonEl =\n",
       "            document.querySelector('#df-549d6822-9c97-4e68-898d-8592dd1fcef6 button');\n",
       "          quickchartButtonEl.style.display =\n",
       "            google.colab.kernel.accessAllowed ? 'block' : 'none';\n",
       "        })();\n",
       "      </script>\n",
       "    </div>\n",
       "\n",
       "    </div>\n",
       "  </div>\n"
      ],
      "text/plain": [
       "               0            1            2            3            4    \\\n",
       "count  3018.000000  3018.000000  3018.000000  3018.000000  3018.000000   \n",
       "mean     17.853152    44.273062    45.280113    71.674671    31.069453   \n",
       "std       4.687797    14.462846    25.220555    44.675041     9.099248   \n",
       "min       9.524200    13.515900     9.481100    12.123100     8.119500   \n",
       "25%      14.233025    32.213725    28.947275    28.312750    24.681225   \n",
       "50%      17.055500    42.536100    41.959500    73.212050    30.875000   \n",
       "75%      21.015450    57.452525    57.410875   103.519625    37.776125   \n",
       "max      32.789000    87.639400   134.566800   178.991600    56.756500   \n",
       "\n",
       "               5            6            7            8            9    ...  \\\n",
       "count  3018.000000  3018.000000  3018.000000  3018.000000  3018.000000  ...   \n",
       "mean     48.053716    20.301708    85.801565    35.661436   143.737658  ...   \n",
       "std      12.659109     6.501358    47.756548    24.825034   105.022781  ...   \n",
       "min      15.233200     6.118600    22.244300    10.178600    27.535100  ...   \n",
       "25%      41.457475    14.858425    55.160225    15.458200    66.120775  ...   \n",
       "50%      47.804900    20.004900    63.708950    19.410400    87.718300  ...   \n",
       "75%      53.985700    25.459725   115.092300    58.686225   182.612775  ...   \n",
       "max      92.032600    36.284600   283.896600    92.906800   443.745300  ...   \n",
       "\n",
       "               368          369          370          371          372  \\\n",
       "count  3018.000000  3018.000000  3018.000000  3018.000000  3018.000000   \n",
       "mean     23.608171    39.738244    17.887139    91.048791    29.138210   \n",
       "std      10.604613    27.216731     7.946666    39.108638    13.478912   \n",
       "min       3.554700     5.462500     6.233600    30.750000     6.574900   \n",
       "25%      15.609050    13.813125    12.541800    60.300000    16.688425   \n",
       "50%      22.758900    34.678750    14.786900    82.435000    29.823050   \n",
       "75%      28.915550    61.252500    21.164300   115.485000    37.793100   \n",
       "max      51.642900   108.800000    47.746100   200.270000    58.918100   \n",
       "\n",
       "               373          374          375          376          377  \n",
       "count  3018.000000  3018.000000  3018.000000  3018.000000  3018.000000  \n",
       "mean     52.553631    19.029002    16.262475   187.725771    18.672319  \n",
       "std      32.307153     9.520372    13.941268    88.150481     4.738354  \n",
       "min      13.072600     2.966500     1.592300    62.190300    11.450900  \n",
       "25%      33.867900    11.773850     4.845500   117.151600    14.638150  \n",
       "50%      41.204900    16.363900    10.455450   146.347100    17.619050  \n",
       "75%      63.355700    25.275175    23.917475   261.303025    21.821625  \n",
       "max     199.743600    41.737000    53.775500   449.965500    29.977300  \n",
       "\n",
       "[8 rows x 378 columns]"
      ]
     },
     "execution_count": 19,
     "metadata": {},
     "output_type": "execute_result"
    }
   ],
   "source": [
    "pd.DataFrame(train_prices).describe()"
   ]
  },
  {
   "cell_type": "markdown",
   "metadata": {
    "_cell_guid": "8bf642bb-0dfe-4fde-bac4-5bb18c04bb7a",
    "_uuid": "f6601407-ed5f-4ec4-a628-178794460f57",
    "collapsed": false,
    "id": "fJ9NulVyLB1N",
    "jupyter": {
     "outputs_hidden": false
    }
   },
   "source": [
    "# Dataloader construction"
   ]
  },
  {
   "cell_type": "markdown",
   "metadata": {
    "id": "YGV7GMCEA2pP"
   },
   "source": [
    "## Dataset class"
   ]
  },
  {
   "cell_type": "code",
   "execution_count": 70,
   "metadata": {
    "_cell_guid": "137c31b1-3183-45cb-90fb-ef2e381abd27",
    "_uuid": "803a2976-0025-4fa2-a5b1-b1fbf92dc479",
    "collapsed": false,
    "execution": {
     "iopub.execute_input": "2025-04-18T02:42:36.369456Z",
     "iopub.status.busy": "2025-04-18T02:42:36.369165Z",
     "iopub.status.idle": "2025-04-18T02:42:36.376236Z",
     "shell.execute_reply": "2025-04-18T02:42:36.375570Z",
     "shell.execute_reply.started": "2025-04-18T02:42:36.369438Z"
    },
    "executionInfo": {
     "elapsed": 13,
     "status": "ok",
     "timestamp": 1749830366720,
     "user": {
      "displayName": "Vahagn Dovlatyan Univ",
      "userId": "11218036502332640401"
     },
     "user_tz": -240
    },
    "id": "3H8UzNLq6T-e",
    "jupyter": {
     "outputs_hidden": false
    }
   },
   "outputs": [],
   "source": [
    "class StockDataset(Dataset):\n",
    "    def __init__(self, returns_df, prices_df, window_size=100, sharpe_window=10):\n",
    "        \"\"\"\n",
    "        returns_df: pandas DataFrame (days, 505) - daily returns\n",
    "        prices_df: pandas DataFrame (days, 505) - daily prices\n",
    "        window_size: int T (sequence length for LSTM)\n",
    "        sharpe_window: int  R (periods over which to compute Sharpe)\n",
    "        \"\"\"\n",
    "        assert returns_df.shape == prices_df.shape, \"DataFrames must be same shape\"\n",
    "        self.returns = torch.tensor(returns_df, dtype=torch.float32)  # (days, S)\n",
    "        self.prices = torch.tensor(prices_df, dtype=torch.float32)    # (days, S)\n",
    "\n",
    "        # print(self.returns.shape)\n",
    "        # print(self.prices.shape)\n",
    "\n",
    "        self.T = window_size\n",
    "        self.R = sharpe_window\n",
    "        self.S = returns_df.shape[1]\n",
    "        self.F = 2  # returns + prices\n",
    "        self.max_start = len(returns_df) - self.R - self.T + 1\n",
    "\n",
    "    def __len__(self):\n",
    "        return self.max_start\n",
    "\n",
    "    def __getitem__(self, idx):\n",
    "        \"\"\"\n",
    "        Returns:\n",
    "            x: (R, T, S, 2) - [returns, prices]\n",
    "            y: (R, S) - next-day returns\n",
    "        \"\"\"\n",
    "        x = []\n",
    "        y = []\n",
    "        for r in range(self.R):\n",
    "            start = idx + r\n",
    "            end = start + self.T\n",
    "\n",
    "            ret_window = self.returns[start:end]  # (T, S)\n",
    "            pri_window = self.prices[start:end]   # (T, S)\n",
    "\n",
    "            window = torch.stack([ret_window, pri_window], dim=-1)  # (T, S, 2)\n",
    "            x.append(window)\n",
    "            y.append(self.returns[start + self.T])  # Next-day returns\n",
    "\n",
    "        x = torch.stack(x)  # (R, T, S, 2)\n",
    "        y = torch.stack(y)  # (R, S)\n",
    "        return x, y"
   ]
  },
  {
   "cell_type": "markdown",
   "metadata": {
    "id": "In3d7jEv_c6B"
   },
   "source": [
    "## Hyperparameters"
   ]
  },
  {
   "cell_type": "code",
   "execution_count": 71,
   "metadata": {
    "_cell_guid": "daa1bf60-47a4-45c6-b45e-487edf0b2854",
    "_uuid": "889a48f9-e738-4ea1-9471-fe25d9c8e700",
    "collapsed": false,
    "execution": {
     "iopub.execute_input": "2025-04-18T02:42:42.264730Z",
     "iopub.status.busy": "2025-04-18T02:42:42.264054Z",
     "iopub.status.idle": "2025-04-18T02:42:42.268406Z",
     "shell.execute_reply": "2025-04-18T02:42:42.267670Z",
     "shell.execute_reply.started": "2025-04-18T02:42:42.264706Z"
    },
    "executionInfo": {
     "elapsed": 46,
     "status": "ok",
     "timestamp": 1749830366769,
     "user": {
      "displayName": "Vahagn Dovlatyan Univ",
      "userId": "11218036502332640401"
     },
     "user_tz": -240
    },
    "id": "wX4cVw7YKS0C",
    "jupyter": {
     "outputs_hidden": false
    }
   },
   "outputs": [],
   "source": [
    "B = 8 # batch size\n",
    "R = 25 # sharpe window\n",
    "T = 32 # window size\n",
    "S = df.shape[1] # stock count\n",
    "feature_count = 8 # feature count after first dense layer\n",
    "H = 32 # hidden size\n",
    "num_epochs = 10 # number of epochs\n",
    "\n",
    "# For saving model and plots\n",
    "model_name = \"single_layer_lstm_on_adjusted_17\"\n",
    "run_id = datetime.now().strftime('%Y%m%d-%H%M')\n",
    "os.makedirs(run_id, exist_ok=True)"
   ]
  },
  {
   "cell_type": "markdown",
   "metadata": {
    "id": "w8SoLbY2Am8o"
   },
   "source": [
    "## Train and validation dataloaders"
   ]
  },
  {
   "cell_type": "code",
   "execution_count": 72,
   "metadata": {
    "_cell_guid": "8849cc2a-2ee8-48c9-b2fb-7113062a6273",
    "_uuid": "8f9d7445-af34-40de-a25f-f098ec96c7df",
    "colab": {
     "base_uri": "https://localhost:8080/"
    },
    "collapsed": false,
    "execution": {
     "iopub.execute_input": "2025-04-18T02:42:43.760597Z",
     "iopub.status.busy": "2025-04-18T02:42:43.759835Z",
     "iopub.status.idle": "2025-04-18T02:42:43.958990Z",
     "shell.execute_reply": "2025-04-18T02:42:43.958259Z",
     "shell.execute_reply.started": "2025-04-18T02:42:43.760559Z"
    },
    "executionInfo": {
     "elapsed": 6,
     "status": "ok",
     "timestamp": 1749830366770,
     "user": {
      "displayName": "Vahagn Dovlatyan Univ",
      "userId": "11218036502332640401"
     },
     "user_tz": -240
    },
    "id": "NA76wLx7NGw9",
    "jupyter": {
     "outputs_hidden": false
    },
    "outputId": "aa155309-346f-45ef-f08c-a8b722d71014"
   },
   "outputs": [
    {
     "name": "stdout",
     "output_type": "stream",
     "text": [
      "torch.Size([8, 25, 32, 378, 2])\n",
      "torch.Size([8, 25, 378])\n",
      "Length of train dataloader: 371\n"
     ]
    }
   ],
   "source": [
    "train_dataset = StockDataset(train_returns, train_prices, window_size=T, sharpe_window=R)\n",
    "train_dataloader = DataLoader(train_dataset, batch_size=B, shuffle=True)\n",
    "\n",
    "for batch_data, batch_returns in train_dataloader:\n",
    "    print(batch_data.shape)\n",
    "    print(batch_returns.shape)\n",
    "    break\n",
    "print(\"Length of train dataloader:\", len(train_dataloader))"
   ]
  },
  {
   "cell_type": "code",
   "execution_count": 73,
   "metadata": {
    "_cell_guid": "c279478b-b21f-4899-8b28-be10e456ba3f",
    "_uuid": "ac5bb83e-4e1b-4a87-8e4f-6aeaca4212c3",
    "colab": {
     "base_uri": "https://localhost:8080/"
    },
    "collapsed": false,
    "execution": {
     "iopub.execute_input": "2025-04-18T02:42:45.062729Z",
     "iopub.status.busy": "2025-04-18T02:42:45.062203Z",
     "iopub.status.idle": "2025-04-18T02:42:45.122064Z",
     "shell.execute_reply": "2025-04-18T02:42:45.121436Z",
     "shell.execute_reply.started": "2025-04-18T02:42:45.062707Z"
    },
    "executionInfo": {
     "elapsed": 28,
     "status": "ok",
     "timestamp": 1749830366796,
     "user": {
      "displayName": "Vahagn Dovlatyan Univ",
      "userId": "11218036502332640401"
     },
     "user_tz": -240
    },
    "id": "Un5uf-pwJ7sf",
    "jupyter": {
     "outputs_hidden": false
    },
    "outputId": "60606afe-33e2-4fdf-ab89-3ebff82625bf"
   },
   "outputs": [
    {
     "name": "stdout",
     "output_type": "stream",
     "text": [
      "torch.Size([8, 25, 32, 378, 2])\n",
      "torch.Size([8, 25, 378])\n",
      "Length of validation dataloader: 25\n"
     ]
    }
   ],
   "source": [
    "val_dataset = StockDataset(val_returns, val_prices, window_size=T, sharpe_window=R)\n",
    "val_dataloader = DataLoader(val_dataset, batch_size=B, shuffle=True)\n",
    "\n",
    "for batch_data, batch_returns in val_dataloader:\n",
    "    print(batch_data.shape)\n",
    "    print(batch_returns.shape)\n",
    "    break\n",
    "\n",
    "print(\"Length of validation dataloader:\", len(val_dataloader))"
   ]
  },
  {
   "cell_type": "code",
   "execution_count": 74,
   "metadata": {
    "_cell_guid": "24d68300-9c0b-41ac-abd1-929395d09256",
    "_uuid": "96eba004-2700-4117-9e7c-ce54621b1169",
    "collapsed": false,
    "executionInfo": {
     "elapsed": 1,
     "status": "ok",
     "timestamp": 1749830366798,
     "user": {
      "displayName": "Vahagn Dovlatyan Univ",
      "userId": "11218036502332640401"
     },
     "user_tz": -240
    },
    "id": "amhfh4xJKLDT",
    "jupyter": {
     "outputs_hidden": false
    }
   },
   "outputs": [],
   "source": [
    "# test_dataset = StockDataset(test_returns, test_prices[1:], window_size=T, sharpe_window=R)\n",
    "# test_dataloader = DataLoader(test_dataset, batch_size=B, shuffle=True)\n",
    "\n",
    "# for batch_data, batch_returns in test_dataloader:\n",
    "#     print(batch_data.shape)\n",
    "#     print(batch_returns.shape)\n",
    "#     break\n",
    "\n",
    "# print(\"Length of test dataloader:\", len(test_dataloader))"
   ]
  },
  {
   "cell_type": "markdown",
   "metadata": {
    "_cell_guid": "7c9d7275-1b81-4f60-93e9-2b0f31e842e7",
    "_uuid": "79967a04-dfb9-4214-a6c8-a40f2dd148ec",
    "collapsed": false,
    "id": "JGbBY7RWK_Vu",
    "jupyter": {
     "outputs_hidden": false
    }
   },
   "source": [
    "# Model construction"
   ]
  },
  {
   "cell_type": "markdown",
   "metadata": {
    "id": "tAVLKjynD0BB"
   },
   "source": [
    "## Sharpe Loss"
   ]
  },
  {
   "cell_type": "code",
   "execution_count": 86,
   "metadata": {
    "executionInfo": {
     "elapsed": 8,
     "status": "ok",
     "timestamp": 1749831287196,
     "user": {
      "displayName": "Vahagn Dovlatyan Univ",
      "userId": "11218036502332640401"
     },
     "user_tz": -240
    },
    "id": "xIL6ATAgDzr8"
   },
   "outputs": [],
   "source": [
    "def sharpe_ratio_loss(weights, returns, epsilon=1e-6):\n",
    "    \"\"\"\n",
    "    weights: (B, R, S)\n",
    "    returns: (B, R, S)\n",
    "    \"\"\"\n",
    "    portfolio_returns = (weights * returns).sum(dim=2)  # (B, R)\n",
    "    mean = portfolio_returns.mean(dim=1)\n",
    "    std = portfolio_returns.std(dim=1) + epsilon\n",
    "    sharpe = mean / std\n",
    "    return -sharpe.mean()  # negative Sharpe to minimize"
   ]
  },
  {
   "cell_type": "markdown",
   "metadata": {
    "id": "Wr2NVYJADRFr"
   },
   "source": [
    "## LSTM"
   ]
  },
  {
   "cell_type": "code",
   "execution_count": 75,
   "metadata": {
    "_cell_guid": "dddc62af-de8e-4937-b8c0-8b0d48eb9e6b",
    "_uuid": "337e5001-7ede-427f-a610-1f5d90f238be",
    "collapsed": false,
    "execution": {
     "iopub.execute_input": "2025-04-18T02:42:46.856659Z",
     "iopub.status.busy": "2025-04-18T02:42:46.855876Z",
     "iopub.status.idle": "2025-04-18T02:42:46.863679Z",
     "shell.execute_reply": "2025-04-18T02:42:46.862995Z",
     "shell.execute_reply.started": "2025-04-18T02:42:46.856634Z"
    },
    "executionInfo": {
     "elapsed": 7,
     "status": "ok",
     "timestamp": 1749830368002,
     "user": {
      "displayName": "Vahagn Dovlatyan Univ",
      "userId": "11218036502332640401"
     },
     "user_tz": -240
    },
    "id": "jykmdJ9Bsk9B",
    "jupyter": {
     "outputs_hidden": false
    }
   },
   "outputs": [],
   "source": [
    "class SharpeLSTMModel(nn.Module):\n",
    "    def __init__(self, num_classes=1, input_size=2, hidden_size=64, num_layers=1, feature_size=32):\n",
    "        super(SharpeLSTMModel, self).__init__()\n",
    "\n",
    "        self.num_classes = num_classes\n",
    "        self.input_size = input_size  # 2 features (returns and prices)\n",
    "        self.hidden_size = hidden_size\n",
    "        self.num_layers = num_layers\n",
    "        self.feature_size = feature_size\n",
    "\n",
    "        # Feature projection layer (2 -> feature_size)\n",
    "        self.feature_projection = nn.Linear(input_size, feature_size)\n",
    "\n",
    "        # ReLU activation after projection layer\n",
    "        self.relu = nn.ReLU()\n",
    "\n",
    "        # LSTM layer\n",
    "        self.lstm = nn.LSTM(input_size=feature_size, hidden_size=hidden_size, num_layers=num_layers, batch_first=True)\n",
    "\n",
    "        # Fully connected output layer (hidden_size -> 1)\n",
    "        self.fc = nn.Linear(hidden_size, 1)\n",
    "\n",
    "    def forward(self, x):\n",
    "        B, R, T, S, _ = x.shape\n",
    "\n",
    "        # Project features (Returns, Prices) into higher dimensionality (B, R, T, S, F)\n",
    "        x = self.feature_projection(x)  # (B, R, T, S, F)\n",
    "\n",
    "        # Apply ReLU activation\n",
    "        x = self.relu(x)  # (B, R, T, S, F)\n",
    "\n",
    "        # Reshape to (B*R*S, T, F) for LSTM\n",
    "        x = x.permute(0, 1, 3, 2, 4).reshape(B * R * S, T, self.feature_size)\n",
    "\n",
    "        # Pass through LSTM\n",
    "        lstm_out, _ = self.lstm(x)  # (B*R*S, T, H)\n",
    "\n",
    "        # Take output of last time step\n",
    "        final_out = lstm_out[:, -1, :]  # (B*R*S, H)\n",
    "\n",
    "        # Fully connected layer\n",
    "        dense_out = self.fc(final_out)  # (B*R*S, 1)\n",
    "\n",
    "        # Reshape back to (B, R, S)\n",
    "        dense_out = dense_out.view(B, R, S)  # (B, R, S)\n",
    "\n",
    "        # Apply softmax to get weights\n",
    "        weights = F.softmax(dense_out, dim=2)  # (B, R, S)\n",
    "\n",
    "        return weights"
   ]
  },
  {
   "cell_type": "code",
   "execution_count": 76,
   "metadata": {
    "_cell_guid": "026c6c8a-2322-4344-844f-d2c9b8e94040",
    "_uuid": "00aaf0db-713c-4288-a3c0-0de79ea772dd",
    "collapsed": false,
    "execution": {
     "iopub.execute_input": "2025-04-18T02:42:50.396681Z",
     "iopub.status.busy": "2025-04-18T02:42:50.396011Z",
     "iopub.status.idle": "2025-04-18T02:42:53.938197Z",
     "shell.execute_reply": "2025-04-18T02:42:53.937459Z",
     "shell.execute_reply.started": "2025-04-18T02:42:50.396657Z"
    },
    "executionInfo": {
     "elapsed": 13,
     "status": "ok",
     "timestamp": 1749830368017,
     "user": {
      "displayName": "Vahagn Dovlatyan Univ",
      "userId": "11218036502332640401"
     },
     "user_tz": -240
    },
    "id": "WGeRIHIbVpJd",
    "jupyter": {
     "outputs_hidden": false
    }
   },
   "outputs": [],
   "source": [
    "model = SharpeLSTMModel(num_classes=1, input_size=2, hidden_size=H, num_layers=1, feature_size=feature_count).to(device)\n",
    "# optimizer = torch.optim.Adam(model.parameters(), lr=1e-4, weight_decay=1e-5)\n",
    "optimizer = torch.optim.SGD(model.parameters(), lr=1e-4, momentum=0.99, weight_decay=1e-5)"
   ]
  },
  {
   "cell_type": "markdown",
   "metadata": {
    "id": "zSIgZgvcDWXX"
   },
   "source": [
    "## FC"
   ]
  },
  {
   "cell_type": "code",
   "execution_count": 87,
   "metadata": {
    "executionInfo": {
     "elapsed": 19,
     "status": "ok",
     "timestamp": 1749831322677,
     "user": {
      "displayName": "Vahagn Dovlatyan Univ",
      "userId": "11218036502332640401"
     },
     "user_tz": -240
    },
    "id": "BgFojEj8DXin"
   },
   "outputs": [],
   "source": [
    "class SharpeFCModel(nn.Module):\n",
    "    def __init__(self, input_size=2, feature_size=32, hidden_size=64):\n",
    "        super(SharpeFCModel, self).__init__()\n",
    "\n",
    "        self.input_size = input_size  # 2 features: returns, prices\n",
    "        self.feature_size = feature_size\n",
    "        self.hidden_size = hidden_size\n",
    "\n",
    "        # Project (returns, prices) → feature space\n",
    "        self.feature_projection = nn.Linear(input_size, feature_size)\n",
    "        self.relu = nn.ReLU()\n",
    "\n",
    "        # After projection, we'll pool over time dimension\n",
    "        # Then process with FC layers\n",
    "\n",
    "        # FC block: (R * S * F) → hidden → 1 score per stock\n",
    "        self.fc1 = nn.Linear(feature_size, hidden_size)\n",
    "        self.fc2 = nn.Linear(hidden_size, 1)\n",
    "\n",
    "    def forward(self, x):\n",
    "        B, R, T, S, _ = x.shape  # (B, R, T, S, 2)\n",
    "\n",
    "        # Project features\n",
    "        x = self.feature_projection(x)  # (B, R, T, S, F)\n",
    "        x = self.relu(x)\n",
    "\n",
    "        # Aggregate over time: mean pooling\n",
    "        x = x.mean(dim=2)  # (B, R, S, F)\n",
    "\n",
    "        # Flatten and feed into FC\n",
    "        x = self.fc1(x)         # (B, R, S, hidden)\n",
    "        x = self.relu(x)\n",
    "        x = self.fc2(x)         # (B, R, S, 1)\n",
    "        x = x.squeeze(-1)       # (B, R, S)\n",
    "\n",
    "        # Apply softmax to get portfolio weights\n",
    "        weights = F.softmax(x, dim=2)  # (B, R, S)\n",
    "\n",
    "        return weights"
   ]
  },
  {
   "cell_type": "code",
   "execution_count": 88,
   "metadata": {
    "executionInfo": {
     "elapsed": 1,
     "status": "ok",
     "timestamp": 1749831322681,
     "user": {
      "displayName": "Vahagn Dovlatyan Univ",
      "userId": "11218036502332640401"
     },
     "user_tz": -240
    },
    "id": "AWNZc_SNEq41"
   },
   "outputs": [],
   "source": [
    "model_fc = SharpeLSTMModel(num_classes=1, input_size=2, hidden_size=H, num_layers=1, feature_size=feature_count).to(device)\n",
    "# optimizer = torch.optim.Adam(model.parameters(), lr=1e-4, weight_decay=1e-5)\n",
    "optimizer_fc = torch.optim.SGD(model_fc.parameters(), lr=1e-4, momentum=0.99, weight_decay=1e-5)"
   ]
  },
  {
   "cell_type": "markdown",
   "metadata": {
    "_cell_guid": "87699149-61b0-445f-90eb-0f6ce6a0fb84",
    "_uuid": "daded44e-3efe-43fa-a6ac-ba2a80483643",
    "collapsed": false,
    "id": "AStJNK8JgtOa",
    "jupyter": {
     "outputs_hidden": false
    }
   },
   "source": [
    "# Training"
   ]
  },
  {
   "cell_type": "markdown",
   "metadata": {
    "id": "JLlrHG7a_RqD"
   },
   "source": [
    "## LSTM"
   ]
  },
  {
   "cell_type": "code",
   "execution_count": 77,
   "metadata": {
    "_cell_guid": "5f0a64a1-4fa8-4809-ac67-2578a41910d4",
    "_uuid": "e30fe4c9-0f00-45ab-858a-1b1f8ddbb37c",
    "colab": {
     "base_uri": "https://localhost:8080/"
    },
    "collapsed": false,
    "execution": {
     "iopub.execute_input": "2025-04-18T02:42:56.674741Z",
     "iopub.status.busy": "2025-04-18T02:42:56.673927Z",
     "iopub.status.idle": "2025-04-18T03:03:13.298024Z",
     "shell.execute_reply": "2025-04-18T03:03:13.297243Z",
     "shell.execute_reply.started": "2025-04-18T02:42:56.674712Z"
    },
    "executionInfo": {
     "elapsed": 475582,
     "status": "ok",
     "timestamp": 1749830846621,
     "user": {
      "displayName": "Vahagn Dovlatyan Univ",
      "userId": "11218036502332640401"
     },
     "user_tz": -240
    },
    "id": "QyXyIXfvLyzD",
    "jupyter": {
     "outputs_hidden": false
    },
    "outputId": "c56be1e4-2ecf-4a29-a194-a0632957300a"
   },
   "outputs": [
    {
     "name": "stdout",
     "output_type": "stream",
     "text": [
      "Epoch 1: Training Loss = -0.026228, Validation Loss = 0.052875\n",
      "Epoch 2: Training Loss = -0.027792, Validation Loss = 0.050839\n",
      "Epoch 3: Training Loss = -0.028943, Validation Loss = 0.050800\n",
      "Epoch 4: Training Loss = -0.029413, Validation Loss = 0.055061\n",
      "Epoch 5: Training Loss = -0.031252, Validation Loss = 0.052477\n",
      "Epoch 6: Training Loss = -0.032364, Validation Loss = 0.045742\n",
      "Epoch 7: Training Loss = -0.033093, Validation Loss = 0.049421\n",
      "Epoch 8: Training Loss = -0.034585, Validation Loss = 0.046820\n",
      "Epoch 9: Training Loss = -0.036060, Validation Loss = 0.043846\n",
      "Epoch 10: Training Loss = -0.036038, Validation Loss = 0.046105\n"
     ]
    }
   ],
   "source": [
    "# Training loop\n",
    "train_losses = []\n",
    "val_losses = []\n",
    "for epoch in range(num_epochs):\n",
    "    model.train()  # Set the model to training mode\n",
    "    total_train_loss = 0.0\n",
    "    for batch_data, batch_returns in train_dataloader:\n",
    "        batch_data, batch_returns = batch_data.to(device), batch_returns.to(device)\n",
    "\n",
    "        optimizer.zero_grad()  # Reset gradients\n",
    "\n",
    "        # Forward pass\n",
    "        weights = model(batch_data)\n",
    "\n",
    "        # Compute training loss (Negative Sharpe ratio)\n",
    "        train_loss = sharpe_ratio_loss(weights, batch_returns)\n",
    "        total_train_loss += train_loss.item()\n",
    "\n",
    "        # Backward pass\n",
    "        train_loss.backward()\n",
    "\n",
    "        # Update parameters\n",
    "        optimizer.step()\n",
    "\n",
    "    avg_train_loss = total_train_loss / len(train_dataloader)  # Average training loss for the epoch\n",
    "    train_losses.append(avg_train_loss) # To plot after\n",
    "\n",
    "    # Validation phase (after each epoch)\n",
    "    model.eval()  # Set the model to evaluation mode\n",
    "    with torch.no_grad():  # No gradient calculation needed for validation\n",
    "        total_val_loss = 0.0\n",
    "        for batch_data, batch_returns in val_dataloader:\n",
    "            batch_data, batch_returns = batch_data.to(device), batch_returns.to(device)\n",
    "\n",
    "            # Forward pass (no gradients needed)\n",
    "            weights = model(batch_data)\n",
    "\n",
    "            # Compute validation loss (Negative Sharpe ratio)\n",
    "            val_loss = sharpe_ratio_loss(weights, batch_returns)\n",
    "            total_val_loss += val_loss.item()\n",
    "\n",
    "        avg_val_loss = total_val_loss / len(val_dataloader)  # Average validation loss for the epoch\n",
    "        val_losses.append(avg_val_loss)\n",
    "\n",
    "    # Print training and validation loss for the current epoch\n",
    "    print(f\"Epoch {epoch+1}: Training Loss = {avg_train_loss:.6f}, Validation Loss = {avg_val_loss:.6f}\")"
   ]
  },
  {
   "cell_type": "markdown",
   "metadata": {
    "id": "eWxE3Vo-DKU1"
   },
   "source": [
    "## FC (empty)"
   ]
  },
  {
   "cell_type": "code",
   "execution_count": null,
   "metadata": {
    "id": "mdkYMLUfDLoN"
   },
   "outputs": [],
   "source": [
    "pass"
   ]
  },
  {
   "cell_type": "markdown",
   "metadata": {
    "id": "ghw_yxnsUdXR"
   },
   "source": [
    "## Train and validation losses plot"
   ]
  },
  {
   "cell_type": "code",
   "execution_count": 78,
   "metadata": {
    "_cell_guid": "3cd76c49-fcaf-473c-8df6-32fc75f318ea",
    "_uuid": "5f96a76c-cb2b-4200-a0bb-b90eaa0df5bb",
    "colab": {
     "base_uri": "https://localhost:8080/",
     "height": 564
    },
    "collapsed": false,
    "execution": {
     "iopub.execute_input": "2025-04-18T03:12:56.247064Z",
     "iopub.status.busy": "2025-04-18T03:12:56.246368Z",
     "iopub.status.idle": "2025-04-18T03:12:56.675589Z",
     "shell.execute_reply": "2025-04-18T03:12:56.674754Z",
     "shell.execute_reply.started": "2025-04-18T03:12:56.247040Z"
    },
    "executionInfo": {
     "elapsed": 175,
     "status": "ok",
     "timestamp": 1749830846792,
     "user": {
      "displayName": "Vahagn Dovlatyan Univ",
      "userId": "11218036502332640401"
     },
     "user_tz": -240
    },
    "id": "rnxLOGAjh3YK",
    "jupyter": {
     "outputs_hidden": false
    },
    "outputId": "3c4637a0-99b0-47b0-bec1-ae82f199d7fd"
   },
   "outputs": [
    {
     "data": {
      "image/png": "[encoded data removed]",
      "text/plain": [
       "<Figure size 1000x600 with 1 Axes>"
      ]
     },
     "metadata": {},
     "output_type": "display_data"
    }
   ],
   "source": [
    "# Plotting train losses per epoch\n",
    "plt.figure(figsize=(10, 6))\n",
    "plt.plot(range(1, num_epochs + 1), train_losses, label=\"Training Loss\", color='blue')\n",
    "plt.plot(range(1, num_epochs + 1), val_losses, label=\"Validation Loss\", color='red')\n",
    "plt.xlabel(\"Epochs\")\n",
    "plt.ylabel(\"Loss\")\n",
    "plt.title(\"Average Training and Validation Losses per Epoch\")\n",
    "plt.legend()\n",
    "\n",
    "# Saving plot\n",
    "# plt.savefig(f\"{model_name}-{run_id}/train_val_loss\")\n",
    "\n",
    "plt.show()"
   ]
  },
  {
   "cell_type": "markdown",
   "metadata": {
    "id": "gWxf42ue_XGq"
   },
   "source": [
    "## Pure Markowitz"
   ]
  },
  {
   "cell_type": "code",
   "execution_count": null,
   "metadata": {
    "id": "fz2kJSeS_Ukd"
   },
   "outputs": [],
   "source": [
    "# Portfolio value tracking\n",
    "portfolio_value_markowitz = [1]  # Start with 1\n",
    "\n",
    "markowitz_returns = []\n",
    "\n",
    "# Rolling window Markowitz portfolio simulation\n",
    "window_size = T  # Use past T days of returns\n",
    "\n",
    "for t in range(window_size, len(test_returns)):\n",
    "\n",
    "    print(t, end=', ')\n",
    "    # Get Markowitz optimal weights from our weight array\n",
    "    optimal_weights = markowitz_optimization_pytorch(test_returns.iloc[t-window_size:t], target_return=test_returns.mean().mean(), learning_rate=1e-3, max_iter=1000)\n",
    "    # Convert to NumPy array\n",
    "    optimal_weights = optimal_weights.cpu().detach().numpy()\n",
    "\n",
    "    # Compute portfolio return on day 101\n",
    "    next_day_return = np.dot(optimal_weights, np.array(test_returns.iloc[t]))\n",
    "\n",
    "    # print(f\"Weights: {optimal_weights}\")\n",
    "    # print(f\"Day {t} return: {next_day_return}\")\n",
    "\n",
    "    # Update portfolio value\n",
    "    portfolio_value_markowitz.append(portfolio_value_markowitz[-1] * (1 + next_day_return))\n",
    "\n",
    "    markowitz_returns.append(next_day_return)\n",
    "\n",
    "# Convert to numpy array for easier plotting\n",
    "portfolio_value_markowitz = np.array([x.get() if hasattr(x, 'get') else x for x in portfolio_value_markowitz])"
   ]
  },
  {
   "cell_type": "markdown",
   "metadata": {
    "id": "Cft59siur5n0"
   },
   "source": [
    "## Saving Model\n"
   ]
  },
  {
   "cell_type": "code",
   "execution_count": null,
   "metadata": {
    "id": "MCHRR7pHr9Pk"
   },
   "outputs": [],
   "source": [
    "# Saving model weights\n",
    "torch.save(model.state_dict(), f\"{model_name}-{run_id}/weights.pth\")"
   ]
  },
  {
   "cell_type": "code",
   "execution_count": null,
   "metadata": {
    "id": "NhM19jujtgs9"
   },
   "outputs": [],
   "source": [
    "# Saving model metadata\n",
    "metadata = {\n",
    "    \"model\": model_name,\n",
    "    \"B\": B,\n",
    "    \"R\": R,\n",
    "    \"T\": T,\n",
    "    \"S\": S,\n",
    "    \"feature_count\": feature_count,\n",
    "    \"H\": H,\n",
    "    \"num_epochs\": num_epochs,\n",
    "    \"optimizer\": \"SGD\",\n",
    "    \"loss_function\": \"SharpeRatioLoss\",\n",
    "    \"notes\": \"FC-ReLU-LSTM-FC-Softmax. Predicting weights not returns yet.\"\n",
    "}\n",
    "\n",
    "\n",
    "with open(f\"{model_name}-{run_id}/info.json\", 'w') as f:\n",
    "    json.dump(metadata, f, indent=4)"
   ]
  },
  {
   "cell_type": "markdown",
   "metadata": {
    "_cell_guid": "191d3a0e-8ae5-48bd-8d4a-181104ae9bce",
    "_uuid": "35e10b12-25d7-42d6-9acf-e919b94d0c8a",
    "collapsed": false,
    "id": "JkgK2l_6gvtL",
    "jupyter": {
     "outputs_hidden": false
    }
   },
   "source": [
    "# Testing"
   ]
  },
  {
   "cell_type": "code",
   "execution_count": 79,
   "metadata": {
    "_cell_guid": "756d2090-0d4f-4971-a3f3-61d6658d8861",
    "_uuid": "1406ef18-1591-4511-98f9-5dc3ccd92440",
    "colab": {
     "base_uri": "https://localhost:8080/"
    },
    "collapsed": false,
    "execution": {
     "iopub.execute_input": "2025-04-18T03:23:37.113071Z",
     "iopub.status.busy": "2025-04-18T03:23:37.112535Z",
     "iopub.status.idle": "2025-04-18T03:23:37.857916Z",
     "shell.execute_reply": "2025-04-18T03:23:37.857144Z",
     "shell.execute_reply.started": "2025-04-18T03:23:37.113049Z"
    },
    "executionInfo": {
     "elapsed": 981,
     "status": "ok",
     "timestamp": 1749830879609,
     "user": {
      "displayName": "Vahagn Dovlatyan Univ",
      "userId": "11218036502332640401"
     },
     "user_tz": -240
    },
    "id": "sQshmJJJghVK",
    "jupyter": {
     "outputs_hidden": false
    },
    "outputId": "1dad8bd2-209c-488f-acd6-51e9f197c30a"
   },
   "outputs": [
    {
     "name": "stdout",
     "output_type": "stream",
     "text": [
      "testing_data: torch.Size([1107, 378, 2]), testing_returns: torch.Size([1107, 378])\n"
     ]
    }
   ],
   "source": [
    "cumulative_returns_test = [1]\n",
    "cumulative_returns_equal = [1] # equal\n",
    "\n",
    "test_predictions = []\n",
    "benchmark_returns = []\n",
    "\n",
    "testing_data = torch.stack([torch.tensor(test_prices.values, dtype=torch.float32),\n",
    "                            torch.tensor(test_returns.values, dtype=torch.float32)], axis=2).to(device) # (days, S, 2)\n",
    "testing_returns = torch.tensor(test_returns.values, dtype=torch.float32).to(device)\n",
    "\n",
    "print(f\"testing_data: {testing_data.shape}, testing_returns: {testing_returns.shape}\")\n",
    "model.eval()\n",
    "with torch.no_grad():\n",
    "    for t in range(T, testing_data.shape[0]):\n",
    "        weights = model(testing_data[t - T:t].reshape(1, 1, T, S, 2)) # (T, S, 2) -> (S)\n",
    "        weights_equal = (torch.ones(S) / S).to(device) # equal\n",
    "\n",
    "        next_day_return = weights @ testing_returns[t]\n",
    "        next_day_return_equal = weights_equal @ testing_returns[t] # equal\n",
    "\n",
    "        cumulative_returns_test.append(cumulative_returns_test[-1] * (1 + next_day_return))\n",
    "        cumulative_returns_equal.append(cumulative_returns_equal[-1] * (1 + next_day_return_equal)) # equal\n",
    "\n",
    "        test_predictions.append(next_day_return.cpu())\n",
    "        benchmark_returns.append(next_day_return_equal.cpu())"
   ]
  },
  {
   "cell_type": "code",
   "execution_count": 83,
   "metadata": {
    "_cell_guid": "042699a2-ca3a-4a80-ad79-7080c5998f1c",
    "_uuid": "3233b82a-f063-4b62-a41e-bb6a91ee0ba5",
    "colab": {
     "base_uri": "https://localhost:8080/",
     "height": 564
    },
    "collapsed": false,
    "execution": {
     "iopub.execute_input": "2025-04-18T03:23:39.793305Z",
     "iopub.status.busy": "2025-04-18T03:23:39.792590Z",
     "iopub.status.idle": "2025-04-18T03:23:40.140926Z",
     "shell.execute_reply": "2025-04-18T03:23:40.140265Z",
     "shell.execute_reply.started": "2025-04-18T03:23:39.793272Z"
    },
    "executionInfo": {
     "elapsed": 836,
     "status": "ok",
     "timestamp": 1749831029881,
     "user": {
      "displayName": "Vahagn Dovlatyan Univ",
      "userId": "11218036502332640401"
     },
     "user_tz": -240
    },
    "id": "vR08E7-wGY2K",
    "jupyter": {
     "outputs_hidden": false
    },
    "outputId": "9d2d4aa4-9725-482c-b7ee-bd245500269a"
   },
   "outputs": [
    {
     "data": {
      "image/png": "[encoded data removed]",
      "text/plain": [
       "<Figure size 1000x600 with 1 Axes>"
      ]
     },
     "metadata": {},
     "output_type": "display_data"
    }
   ],
   "source": [
    "plt.figure(figsize=(10, 6))\n",
    "plt.plot(test_prices.index.values[T - 1:], np.array([r.cpu().item() if r != 1 else r for r in cumulative_returns_test]),\n",
    "         label='LSTM(1 layer)', color='blue')\n",
    "plt.plot(test_prices.index.values[T - 1:], np.array([r.cpu() if r != 1 else r for r in cumulative_returns_equal]),\n",
    "         label='Benchmark(equal weights)', color='red') # equal\n",
    "plt.plot(test_prices.index.values[T - 1:], portfolio_value_markowitz,\n",
    "         label='Markowitz', color='green') # markowitz\n",
    "plt.title(\"Cumulative Return Over Time On Test Data\")\n",
    "plt.xlabel(\"Days\")\n",
    "plt.ylabel(\"Cumulative Return\")\n",
    "plt.legend()\n",
    "plt.grid(True)\n",
    "\n",
    "# Saving plot\n",
    "# plt.savefig(f\"{model_name}_{run_id}/test_cum_ret\")\n",
    "\n",
    "plt.show()"
   ]
  },
  {
   "cell_type": "markdown",
   "metadata": {
    "id": "y96vvPR_RR-O"
   },
   "source": [
    "## Metrics"
   ]
  },
  {
   "cell_type": "code",
   "execution_count": 81,
   "metadata": {
    "executionInfo": {
     "elapsed": 10,
     "status": "ok",
     "timestamp": 1749830880072,
     "user": {
      "displayName": "Vahagn Dovlatyan Univ",
      "userId": "11218036502332640401"
     },
     "user_tz": -240
    },
    "id": "HbWLbGUMOoJg"
   },
   "outputs": [],
   "source": [
    "test_predictions = np.array(test_predictions)\n",
    "benchmark_returns = np.array(benchmark_returns)\n",
    "markowitz_returns = np.array(markowitz_returns)\n",
    "# test_predctions_fc = np.array(test_predictions_fc)"
   ]
  },
  {
   "cell_type": "code",
   "execution_count": 82,
   "metadata": {
    "colab": {
     "base_uri": "https://localhost:8080/",
     "height": 238
    },
    "executionInfo": {
     "elapsed": 9,
     "status": "ok",
     "timestamp": 1749830880075,
     "user": {
      "displayName": "Vahagn Dovlatyan Univ",
      "userId": "11218036502332640401"
     },
     "user_tz": -240
    },
    "id": "3YOYAAeuN5zM",
    "outputId": "8a355f50-1104-4ba0-91aa-021b0389f45d"
   },
   "outputs": [
    {
     "data": {
      "application/vnd.google.colaboratory.intrinsic+json": {
       "summary": "{\n  \"name\": \"metrics_df\",\n  \"rows\": 6,\n  \"fields\": [\n    {\n      \"column\": \"LSTM\",\n      \"properties\": {\n        \"dtype\": \"number\",\n        \"std\": 0.3595394373728328,\n        \"min\": -0.4721735119819641,\n        \"max\": 0.5532199325173562,\n        \"num_unique_values\": 6,\n        \"samples\": [\n          0.10830938816070557,\n          0.24096823029060518,\n          -0.4721735119819641\n        ],\n        \"semantic_type\": \"\",\n        \"description\": \"\"\n      }\n    },\n    {\n      \"column\": \"Benchmark\",\n      \"properties\": {\n        \"dtype\": \"number\",\n        \"std\": 0.3643741868151398,\n        \"min\": -0.48023539781570435,\n        \"max\": 0.5600490834273493,\n        \"num_unique_values\": 6,\n        \"samples\": [\n          0.11084401607513428,\n          0.24504931459086,\n          -0.48023539781570435\n        ],\n        \"semantic_type\": \"\",\n        \"description\": \"\"\n      }\n    },\n    {\n      \"column\": \"Markowitz\",\n      \"properties\": {\n        \"dtype\": \"number\",\n        \"std\": 0.2877132564726153,\n        \"min\": -0.35412912353561105,\n        \"max\": 0.47178914747707484,\n        \"num_unique_values\": 6,\n        \"samples\": [\n          0.08118268731156264,\n          0.22228209323253556,\n          -0.35412912353561105\n        ],\n        \"semantic_type\": \"\",\n        \"description\": \"\"\n      }\n    }\n  ]\n}",
       "type": "dataframe",
       "variable_name": "metrics_df"
      },
      "text/html": [
       "\n",
       "  <div id=\"df-b92fcd57-df30-41ee-92e9-40d138b56618\" class=\"colab-df-container\">\n",
       "    <div>\n",
       "<style scoped>\n",
       "    .dataframe tbody tr th:only-of-type {\n",
       "        vertical-align: middle;\n",
       "    }\n",
       "\n",
       "    .dataframe tbody tr th {\n",
       "        vertical-align: top;\n",
       "    }\n",
       "\n",
       "    .dataframe thead th {\n",
       "        text-align: right;\n",
       "    }\n",
       "</style>\n",
       "<table border=\"1\" class=\"dataframe\">\n",
       "  <thead>\n",
       "    <tr style=\"text-align: right;\">\n",
       "      <th></th>\n",
       "      <th>LSTM</th>\n",
       "      <th>Benchmark</th>\n",
       "      <th>Markowitz</th>\n",
       "    </tr>\n",
       "  </thead>\n",
       "  <tbody>\n",
       "    <tr>\n",
       "      <th>Expected Return</th>\n",
       "      <td>0.108309</td>\n",
       "      <td>0.110844</td>\n",
       "      <td>0.081183</td>\n",
       "    </tr>\n",
       "    <tr>\n",
       "      <th>STD</th>\n",
       "      <td>0.240968</td>\n",
       "      <td>0.245049</td>\n",
       "      <td>0.222282</td>\n",
       "    </tr>\n",
       "    <tr>\n",
       "      <th>Downside Deviation</th>\n",
       "      <td>0.195780</td>\n",
       "      <td>0.197918</td>\n",
       "      <td>0.172074</td>\n",
       "    </tr>\n",
       "    <tr>\n",
       "      <th>Sharpe Ratio</th>\n",
       "      <td>0.449476</td>\n",
       "      <td>0.452334</td>\n",
       "      <td>0.365224</td>\n",
       "    </tr>\n",
       "    <tr>\n",
       "      <th>Sortino Ratio</th>\n",
       "      <td>0.553220</td>\n",
       "      <td>0.560049</td>\n",
       "      <td>0.471789</td>\n",
       "    </tr>\n",
       "    <tr>\n",
       "      <th>Maximum Drawdown</th>\n",
       "      <td>-0.472174</td>\n",
       "      <td>-0.480235</td>\n",
       "      <td>-0.354129</td>\n",
       "    </tr>\n",
       "  </tbody>\n",
       "</table>\n",
       "</div>\n",
       "    <div class=\"colab-df-buttons\">\n",
       "\n",
       "  <div class=\"colab-df-container\">\n",
       "    <button class=\"colab-df-convert\" onclick=\"convertToInteractive('df-b92fcd57-df30-41ee-92e9-40d138b56618')\"\n",
       "            title=\"Convert this dataframe to an interactive table.\"\n",
       "            style=\"display:none;\">\n",
       "\n",
       "  <svg xmlns=\"http://www.w3.org/2000/svg\" height=\"24px\" viewBox=\"0 -960 960 960\">\n",
       "    <path d=\"M120-120v-720h720v720H120Zm60-500h600v-160H180v160Zm220 220h160v-160H400v160Zm0 220h160v-160H400v160ZM180-400h160v-160H180v160Zm440 0h160v-160H620v160ZM180-180h160v-160H180v160Zm440 0h160v-160H620v160Z\"/>\n",
       "  </svg>\n",
       "    </button>\n",
       "\n",
       "  <style>\n",
       "    .colab-df-container {\n",
       "      display:flex;\n",
       "      gap: 12px;\n",
       "    }\n",
       "\n",
       "    .colab-df-convert {\n",
       "      background-color: #E8F0FE;\n",
       "      border: none;\n",
       "      border-radius: 50%;\n",
       "      cursor: pointer;\n",
       "      display: none;\n",
       "      fill: #1967D2;\n",
       "      height: 32px;\n",
       "      padding: 0 0 0 0;\n",
       "      width: 32px;\n",
       "    }\n",
       "\n",
       "    .colab-df-convert:hover {\n",
       "      background-color: #E2EBFA;\n",
       "      box-shadow: 0px 1px 2px rgba(60, 64, 67, 0.3), 0px 1px 3px 1px rgba(60, 64, 67, 0.15);\n",
       "      fill: #174EA6;\n",
       "    }\n",
       "\n",
       "    .colab-df-buttons div {\n",
       "      margin-bottom: 4px;\n",
       "    }\n",
       "\n",
       "    [theme=dark] .colab-df-convert {\n",
       "      background-color: #3B4455;\n",
       "      fill: #D2E3FC;\n",
       "    }\n",
       "\n",
       "    [theme=dark] .colab-df-convert:hover {\n",
       "      background-color: #434B5C;\n",
       "      box-shadow: 0px 1px 3px 1px rgba(0, 0, 0, 0.15);\n",
       "      filter: drop-shadow(0px 1px 2px rgba(0, 0, 0, 0.3));\n",
       "      fill: #FFFFFF;\n",
       "    }\n",
       "  </style>\n",
       "\n",
       "    <script>\n",
       "      const buttonEl =\n",
       "        document.querySelector('#df-b92fcd57-df30-41ee-92e9-40d138b56618 button.colab-df-convert');\n",
       "      buttonEl.style.display =\n",
       "        google.colab.kernel.accessAllowed ? 'block' : 'none';\n",
       "\n",
       "      async function convertToInteractive(key) {\n",
       "        const element = document.querySelector('#df-b92fcd57-df30-41ee-92e9-40d138b56618');\n",
       "        const dataTable =\n",
       "          await google.colab.kernel.invokeFunction('convertToInteractive',\n",
       "                                                    [key], {});\n",
       "        if (!dataTable) return;\n",
       "\n",
       "        const docLinkHtml = 'Like what you see? Visit the ' +\n",
       "          '<a target=\"_blank\" href=https://colab.research.google.com/notebooks/data_table.ipynb>data table notebook</a>'\n",
       "          + ' to learn more about interactive tables.';\n",
       "        element.innerHTML = '';\n",
       "        dataTable['output_type'] = 'display_data';\n",
       "        await google.colab.output.renderOutput(dataTable, element);\n",
       "        const docLink = document.createElement('div');\n",
       "        docLink.innerHTML = docLinkHtml;\n",
       "        element.appendChild(docLink);\n",
       "      }\n",
       "    </script>\n",
       "  </div>\n",
       "\n",
       "\n",
       "    <div id=\"df-84d6e3f9-2c4c-4f5e-a472-4f4deef73b2d\">\n",
       "      <button class=\"colab-df-quickchart\" onclick=\"quickchart('df-84d6e3f9-2c4c-4f5e-a472-4f4deef73b2d')\"\n",
       "                title=\"Suggest charts\"\n",
       "                style=\"display:none;\">\n",
       "\n",
       "<svg xmlns=\"http://www.w3.org/2000/svg\" height=\"24px\"viewBox=\"0 0 24 24\"\n",
       "     width=\"24px\">\n",
       "    <g>\n",
       "        <path d=\"M19 3H5c-1.1 0-2 .9-2 2v14c0 1.1.9 2 2 2h14c1.1 0 2-.9 2-2V5c0-1.1-.9-2-2-2zM9 17H7v-7h2v7zm4 0h-2V7h2v10zm4 0h-2v-4h2v4z\"/>\n",
       "    </g>\n",
       "</svg>\n",
       "      </button>\n",
       "\n",
       "<style>\n",
       "  .colab-df-quickchart {\n",
       "      --bg-color: #E8F0FE;\n",
       "      --fill-color: #1967D2;\n",
       "      --hover-bg-color: #E2EBFA;\n",
       "      --hover-fill-color: #174EA6;\n",
       "      --disabled-fill-color: #AAA;\n",
       "      --disabled-bg-color: #DDD;\n",
       "  }\n",
       "\n",
       "  [theme=dark] .colab-df-quickchart {\n",
       "      --bg-color: #3B4455;\n",
       "      --fill-color: #D2E3FC;\n",
       "      --hover-bg-color: #434B5C;\n",
       "      --hover-fill-color: #FFFFFF;\n",
       "      --disabled-bg-color: #3B4455;\n",
       "      --disabled-fill-color: #666;\n",
       "  }\n",
       "\n",
       "  .colab-df-quickchart {\n",
       "    background-color: var(--bg-color);\n",
       "    border: none;\n",
       "    border-radius: 50%;\n",
       "    cursor: pointer;\n",
       "    display: none;\n",
       "    fill: var(--fill-color);\n",
       "    height: 32px;\n",
       "    padding: 0;\n",
       "    width: 32px;\n",
       "  }\n",
       "\n",
       "  .colab-df-quickchart:hover {\n",
       "    background-color: var(--hover-bg-color);\n",
       "    box-shadow: 0 1px 2px rgba(60, 64, 67, 0.3), 0 1px 3px 1px rgba(60, 64, 67, 0.15);\n",
       "    fill: var(--button-hover-fill-color);\n",
       "  }\n",
       "\n",
       "  .colab-df-quickchart-complete:disabled,\n",
       "  .colab-df-quickchart-complete:disabled:hover {\n",
       "    background-color: var(--disabled-bg-color);\n",
       "    fill: var(--disabled-fill-color);\n",
       "    box-shadow: none;\n",
       "  }\n",
       "\n",
       "  .colab-df-spinner {\n",
       "    border: 2px solid var(--fill-color);\n",
       "    border-color: transparent;\n",
       "    border-bottom-color: var(--fill-color);\n",
       "    animation:\n",
       "      spin 1s steps(1) infinite;\n",
       "  }\n",
       "\n",
       "  @keyframes spin {\n",
       "    0% {\n",
       "      border-color: transparent;\n",
       "      border-bottom-color: var(--fill-color);\n",
       "      border-left-color: var(--fill-color);\n",
       "    }\n",
       "    20% {\n",
       "      border-color: transparent;\n",
       "      border-left-color: var(--fill-color);\n",
       "      border-top-color: var(--fill-color);\n",
       "    }\n",
       "    30% {\n",
       "      border-color: transparent;\n",
       "      border-left-color: var(--fill-color);\n",
       "      border-top-color: var(--fill-color);\n",
       "      border-right-color: var(--fill-color);\n",
       "    }\n",
       "    40% {\n",
       "      border-color: transparent;\n",
       "      border-right-color: var(--fill-color);\n",
       "      border-top-color: var(--fill-color);\n",
       "    }\n",
       "    60% {\n",
       "      border-color: transparent;\n",
       "      border-right-color: var(--fill-color);\n",
       "    }\n",
       "    80% {\n",
       "      border-color: transparent;\n",
       "      border-right-color: var(--fill-color);\n",
       "      border-bottom-color: var(--fill-color);\n",
       "    }\n",
       "    90% {\n",
       "      border-color: transparent;\n",
       "      border-bottom-color: var(--fill-color);\n",
       "    }\n",
       "  }\n",
       "</style>\n",
       "\n",
       "      <script>\n",
       "        async function quickchart(key) {\n",
       "          const quickchartButtonEl =\n",
       "            document.querySelector('#' + key + ' button');\n",
       "          quickchartButtonEl.disabled = true;  // To prevent multiple clicks.\n",
       "          quickchartButtonEl.classList.add('colab-df-spinner');\n",
       "          try {\n",
       "            const charts = await google.colab.kernel.invokeFunction(\n",
       "                'suggestCharts', [key], {});\n",
       "          } catch (error) {\n",
       "            console.error('Error during call to suggestCharts:', error);\n",
       "          }\n",
       "          quickchartButtonEl.classList.remove('colab-df-spinner');\n",
       "          quickchartButtonEl.classList.add('colab-df-quickchart-complete');\n",
       "        }\n",
       "        (() => {\n",
       "          let quickchartButtonEl =\n",
       "            document.querySelector('#df-84d6e3f9-2c4c-4f5e-a472-4f4deef73b2d button');\n",
       "          quickchartButtonEl.style.display =\n",
       "            google.colab.kernel.accessAllowed ? 'block' : 'none';\n",
       "        })();\n",
       "      </script>\n",
       "    </div>\n",
       "\n",
       "  <div id=\"id_7a6c8f31-a670-471a-a840-18b7f9202fe4\">\n",
       "    <style>\n",
       "      .colab-df-generate {\n",
       "        background-color: #E8F0FE;\n",
       "        border: none;\n",
       "        border-radius: 50%;\n",
       "        cursor: pointer;\n",
       "        display: none;\n",
       "        fill: #1967D2;\n",
       "        height: 32px;\n",
       "        padding: 0 0 0 0;\n",
       "        width: 32px;\n",
       "      }\n",
       "\n",
       "      .colab-df-generate:hover {\n",
       "        background-color: #E2EBFA;\n",
       "        box-shadow: 0px 1px 2px rgba(60, 64, 67, 0.3), 0px 1px 3px 1px rgba(60, 64, 67, 0.15);\n",
       "        fill: #174EA6;\n",
       "      }\n",
       "\n",
       "      [theme=dark] .colab-df-generate {\n",
       "        background-color: #3B4455;\n",
       "        fill: #D2E3FC;\n",
       "      }\n",
       "\n",
       "      [theme=dark] .colab-df-generate:hover {\n",
       "        background-color: #434B5C;\n",
       "        box-shadow: 0px 1px 3px 1px rgba(0, 0, 0, 0.15);\n",
       "        filter: drop-shadow(0px 1px 2px rgba(0, 0, 0, 0.3));\n",
       "        fill: #FFFFFF;\n",
       "      }\n",
       "    </style>\n",
       "    <button class=\"colab-df-generate\" onclick=\"generateWithVariable('metrics_df')\"\n",
       "            title=\"Generate code using this dataframe.\"\n",
       "            style=\"display:none;\">\n",
       "\n",
       "  <svg xmlns=\"http://www.w3.org/2000/svg\" height=\"24px\"viewBox=\"0 0 24 24\"\n",
       "       width=\"24px\">\n",
       "    <path d=\"M7,19H8.4L18.45,9,17,7.55,7,17.6ZM5,21V16.75L18.45,3.32a2,2,0,0,1,2.83,0l1.4,1.43a1.91,1.91,0,0,1,.58,1.4,1.91,1.91,0,0,1-.58,1.4L9.25,21ZM18.45,9,17,7.55Zm-12,3A5.31,5.31,0,0,0,4.9,8.1,5.31,5.31,0,0,0,1,6.5,5.31,5.31,0,0,0,4.9,4.9,5.31,5.31,0,0,0,6.5,1,5.31,5.31,0,0,0,8.1,4.9,5.31,5.31,0,0,0,12,6.5,5.46,5.46,0,0,0,6.5,12Z\"/>\n",
       "  </svg>\n",
       "    </button>\n",
       "    <script>\n",
       "      (() => {\n",
       "      const buttonEl =\n",
       "        document.querySelector('#id_7a6c8f31-a670-471a-a840-18b7f9202fe4 button.colab-df-generate');\n",
       "      buttonEl.style.display =\n",
       "        google.colab.kernel.accessAllowed ? 'block' : 'none';\n",
       "\n",
       "      buttonEl.onclick = () => {\n",
       "        google.colab.notebook.generateWithVariable('metrics_df');\n",
       "      }\n",
       "      })();\n",
       "    </script>\n",
       "  </div>\n",
       "\n",
       "    </div>\n",
       "  </div>\n"
      ],
      "text/plain": [
       "                        LSTM  Benchmark  Markowitz\n",
       "Expected Return     0.108309   0.110844   0.081183\n",
       "STD                 0.240968   0.245049   0.222282\n",
       "Downside Deviation  0.195780   0.197918   0.172074\n",
       "Sharpe Ratio        0.449476   0.452334   0.365224\n",
       "Sortino Ratio       0.553220   0.560049   0.471789\n",
       "Maximum Drawdown   -0.472174  -0.480235  -0.354129"
      ]
     },
     "execution_count": 82,
     "metadata": {},
     "output_type": "execute_result"
    }
   ],
   "source": [
    "def compute_metrics(returns, cumulative_returns, risk_free_rate=0.0):\n",
    "    # Expected Return\n",
    "    expected_return = (cumulative_returns[-1] ** (252 / len(cumulative_returns)) - 1).item()\n",
    "    # expected_return = cumulative_returns[-1].item() - 1\n",
    "\n",
    "    # Standard Deviation\n",
    "    std_dev = np.std(returns) * np.sqrt(252)\n",
    "\n",
    "    # Downside Deviation\n",
    "    downside_deviation = np.std(returns[returns < risk_free_rate]) * np.sqrt(252)\n",
    "\n",
    "    # Sharpe Ratio\n",
    "    sharpe_ratio = (expected_return - risk_free_rate) / std_dev if std_dev != 0 else np.nan\n",
    "\n",
    "    # Sortino Ratio\n",
    "    sortino_ratio = (expected_return - risk_free_rate) / downside_deviation if downside_deviation != 0 else np.nan\n",
    "\n",
    "    # Max Drawdown\n",
    "    cumulative_returns = np.cumsum(returns)\n",
    "    peak = np.maximum.accumulate(cumulative_returns)\n",
    "    drawdown = cumulative_returns - peak\n",
    "    max_drawdown = np.min(drawdown)\n",
    "\n",
    "    # Assemble metrics\n",
    "    metrics = {\n",
    "        \"Expected Return\": expected_return,\n",
    "        \"STD\": std_dev,\n",
    "        \"Downside Deviation\": downside_deviation,\n",
    "        \"Sharpe Ratio\": sharpe_ratio,\n",
    "        \"Sortino Ratio\": sortino_ratio,\n",
    "        \"Maximum Drawdown\": max_drawdown\n",
    "    }\n",
    "\n",
    "    return metrics\n",
    "\n",
    "\n",
    "metrics_model = compute_metrics(test_predictions, cumulative_returns_test)\n",
    "metrics_benchmark = compute_metrics(benchmark_returns, cumulative_returns_equal)\n",
    "metrics_markowitz = compute_metrics(markowitz_returns, portfolio_value_markowitz)\n",
    "# metrics_fc = compute_metrics(test_predctions_fc, cumulative_returns_fc)\n",
    "\n",
    "metrics_df = pd.DataFrame({\n",
    "    \"LSTM\": metrics_model,\n",
    "    \"Benchmark\": metrics_benchmark,\n",
    "    \"Markowitz\": metrics_markowitz,\n",
    "    # \"FC\": metrics_fc\n",
    "})\n",
    "\n",
    "metrics_df"
   ]
  },
  {
   "cell_type": "markdown",
   "metadata": {
    "id": "JQLD9nMiSXe1"
   },
   "source": [
    "# Junk"
   ]
  },
  {
   "cell_type": "code",
   "execution_count": 56,
   "metadata": {
    "_cell_guid": "7bd9e0c5-6db4-4d36-98b7-67dadbd5eb20",
    "_uuid": "72bf5ffc-da11-4f1b-9975-554c611a8052",
    "colab": {
     "base_uri": "https://localhost:8080/"
    },
    "collapsed": false,
    "executionInfo": {
     "elapsed": 16,
     "status": "ok",
     "timestamp": 1749830070762,
     "user": {
      "displayName": "Vahagn Dovlatyan Univ",
      "userId": "11218036502332640401"
     },
     "user_tz": -240
    },
    "id": "BpoV4PGYSMKe",
    "jupyter": {
     "outputs_hidden": false
    },
    "outputId": "6604b989-ba14-4cae-aabe-d38f2677cf72"
   },
   "outputs": [
    {
     "name": "stdout",
     "output_type": "stream",
     "text": [
      "Allocated: 0.24 GB\n",
      "Cached:    0.25 GB\n"
     ]
    }
   ],
   "source": [
    "print(f\"Allocated: {torch.cuda.memory_allocated() / 1e9:.2f} GB\")\n",
    "print(f\"Cached:    {torch.cuda.memory_reserved() / 1e9:.2f} GB\")"
   ]
  },
  {
   "cell_type": "code",
   "execution_count": 63,
   "metadata": {
    "_cell_guid": "753acba4-0149-4cf4-85d4-e88a67005cb6",
    "_uuid": "d789780b-099b-4c88-aaac-9e5240315ff5",
    "collapsed": false,
    "executionInfo": {
     "elapsed": 492,
     "status": "ok",
     "timestamp": 1749830110446,
     "user": {
      "displayName": "Vahagn Dovlatyan Univ",
      "userId": "11218036502332640401"
     },
     "user_tz": -240
    },
    "id": "mbme7WRzRdu6",
    "jupyter": {
     "outputs_hidden": false
    }
   },
   "outputs": [],
   "source": [
    "torch.cuda.empty_cache()"
   ]
  },
  {
   "cell_type": "code",
   "execution_count": null,
   "metadata": {
    "execution": {
     "iopub.execute_input": "2025-04-18T03:16:05.647083Z",
     "iopub.status.busy": "2025-04-18T03:16:05.646411Z",
     "iopub.status.idle": "2025-04-18T03:16:05.652348Z",
     "shell.execute_reply": "2025-04-18T03:16:05.651708Z",
     "shell.execute_reply.started": "2025-04-18T03:16:05.647060Z"
    },
    "id": "gS22cO-E8xPS",
    "outputId": "34206224-4021-4ec1-a886-c13970ea08a3"
   },
   "outputs": [
    {
     "data": {
      "text/plain": [
       "tensor(0.0020)"
      ]
     },
     "execution_count": 33,
     "metadata": {},
     "output_type": "execute_result"
    }
   ],
   "source": [
    "(torch.ones(S) / S)[0]"
   ]
  }
 ],
 "metadata": {
  "accelerator": "GPU",
  "colab": {
   "collapsed_sections": [
    "-61dt_dqRlsP",
    "MKkQBmn25BRQ",
    "N64yTwecEHtU",
    "gw1OPfPM-mtW",
    "fJ9NulVyLB1N",
    "YGV7GMCEA2pP",
    "w8SoLbY2Am8o",
    "JGbBY7RWK_Vu",
    "tAVLKjynD0BB",
    "Wr2NVYJADRFr",
    "zSIgZgvcDWXX",
    "JLlrHG7a_RqD",
    "eWxE3Vo-DKU1",
    "ghw_yxnsUdXR",
    "gWxf42ue_XGq",
    "Cft59siur5n0",
    "JkgK2l_6gvtL",
    "y96vvPR_RR-O",
    "JQLD9nMiSXe1"
   ],
   "gpuType": "T4",
   "provenance": [],
   "toc_visible": true
  },
  "kaggle": {
   "accelerator": "nvidiaTeslaT4",
   "dataSources": [
    {
     "datasetId": 7177346,
     "sourceId": 11454903,
     "sourceType": "datasetVersion"
    }
   ],
   "dockerImageVersionId": 31011,
   "isGpuEnabled": true,
   "isInternetEnabled": true,
   "language": "python",
   "sourceType": "notebook"
  },
  "kernelspec": {
   "display_name": "Python 3 (ipykernel)",
   "language": "python",
   "name": "python3"
  },
  "language_info": {
   "codemirror_mode": {
    "name": "ipython",
    "version": 3
   },
   "file_extension": ".py",
   "mimetype": "text/x-python",
   "name": "python",
   "nbconvert_exporter": "python",
   "pygments_lexer": "ipython3",
   "version": "3.12.3"
  }
 },
 "nbformat": 4,
 "nbformat_minor": 4
}
